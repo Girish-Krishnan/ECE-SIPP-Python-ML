{
 "cells": [
  {
   "cell_type": "markdown",
   "metadata": {},
   "source": [
    "# Time Series Analysis Tutorials\n",
    "\n",
    "This notebook demonstrates simple time series analysis techniques. ",
    "We will work with both a small synthetic dataset and a real-world carbon dioxide dataset from `statsmodels`. \n",
    "Each section introduces a different operation so you can see step by step how common time series tools are used.\n"
   ]
  },
  {
   "cell_type": "markdown",
   "metadata": {},
   "source": [
    "Run the cell below if you need to install the required packages.\n",
    "These include `pandas` for data manipulation, `matplotlib` for plotting and `statsmodels` for forecasting utilities.\n",
    "On Google Colab the packages are usually preinstalled, but on your local machine you may need to execute this cell first."
   ]
  },
  {
   "cell_type": "code",
   "execution_count": null,
   "metadata": {},
   "outputs": [],
   "source": [
    "!pip install pandas matplotlib statsmodels"
   ]
  },
  {
   "cell_type": "markdown",
   "metadata": {},
   "source": [
    "## Simple moving average\n",
    "\n",
    "1. Create a daily date range starting at 2020-01-01 for 200 days.\n",
    "2. Generate a sine wave and add some random noise to simulate observations.\n",
    "3. Put the data into a `pandas.Series` so we can use rolling-window functions.\n",
    "4. Compute 20-day and 50-day simple moving averages with `.rolling().mean()`.\n",
    "5. Also compute a 20-day exponential moving average with `.ewm()`.\n",
    "6. Plot everything to see how the moving averages smooth the noisy signal."
   ]
  },
  {
   "cell_type": "code",
   "execution_count": null,
   "metadata": {},
   "outputs": [],
   "source": [
    "import numpy as np\n",
    "import pandas as pd\n",
    "import matplotlib.pyplot as plt\n",
    "\n",
    "rng = pd.date_range(start='2020-01-01', periods=200, freq='D')\n",
    "data = np.sin(np.linspace(0, 8*np.pi, len(rng))) + np.random.normal(scale=0.5, size=len(rng))\n",
    "series = pd.Series(data, index=rng)\n",
    "\n",
    "sma20 = series.rolling(window=20).mean()\n",
    "sma50 = series.rolling(window=50).mean()\n",
    "ema20 = series.ewm(span=20, adjust=False).mean()\n",
    "\n",
    "plt.figure(figsize=(10,6))\n",
    "plt.subplot(2,1,1)\n",
    "plt.plot(series, label='Noisy series', alpha=0.6)\n",
    "plt.plot(sma20, label='20-day SMA')\n",
    "plt.plot(sma50, label='50-day SMA')\n",
    "plt.title('Simple Moving Averages')\n",
    "plt.legend()\n",
    "\n",
    "plt.subplot(2,1,2)\n",
    "plt.plot(series, label='Noisy series', alpha=0.6)\n",
    "plt.plot(ema20, label='20-day EMA', color='tab:orange')\n",
    "plt.title('Exponential Moving Average')\n",
    "plt.legend()\n",
    "\n",
    "plt.tight_layout()\n",
    "plt.show()\n"
   ]
  },
  {
   "cell_type": "markdown",
   "metadata": {},
   "source": [
    "## ARIMA forecasting\n",
    "\n",
    "The next example uses the atmospheric CO2 dataset that ships with `statsmodels`.\n",
    "We resample the series to monthly averages and fill any missing values.\n",
    "The final two years are held out as test data while the rest is used for training.\n",
    "An ARIMA(1,1,1) model is then fit to the training portion.\n",
    "After fitting we forecast 24 months into the future and plot the predictions along with a 95% confidence interval.\n",
    "The shaded region highlights the forecast horizon."
   ]
  },
  {
   "cell_type": "code",
   "execution_count": null,
   "metadata": {},
   "outputs": [],
   "source": [
    "import pandas as pd\n",
    "import matplotlib.pyplot as plt\n",
    "import statsmodels.api as sm\n",
    "from statsmodels.tsa.arima.model import ARIMA\n",
    "\n",
    "co2 = sm.datasets.co2.load_pandas().data\n",
    "co2 = co2['co2'].resample('MS').mean().ffill()\n",
    "\n",
    "train = co2.iloc[:-24]\n",
    "test = co2.iloc[-24:]\n",
    "\n",
    "model = ARIMA(train, order=(1,1,1))\n",
    "model_fit = model.fit()\n",
    "pred = model_fit.get_forecast(steps=24)\n",
    "pred_mean = pred.predicted_mean\n",
    "pred_ci = pred.conf_int()\n",
    "\n",
    "plt.figure(figsize=(10,6))\n",
    "plt.plot(co2, label='Observed')\n",
    "plt.plot(pred_mean.index, pred_mean, color='red', label='Forecast')\n",
    "plt.fill_between(pred_ci.index, pred_ci.iloc[:,0], pred_ci.iloc[:,1], color='red', alpha=0.3, label='95% CI')\n",
    "plt.axvspan(test.index[0], test.index[-1], color='gray', alpha=0.1, label='Forecast Horizon')\n",
    "plt.title('ARIMA(1,1,1) Forecast of CO2')\n",
    "plt.legend()\n",
    "plt.tight_layout()\n",
    "plt.show()\n"
   ]
  },
  {
   "cell_type": "markdown",
   "metadata": {},
   "source": [
    "## Seasonal decomposition\n",
    "\n",
    "Classical decomposition separates a series into trend, seasonal and residual components.\n",
    "Using `seasonal_decompose` with an additive model and a 12 month seasonal period, \n",
    "we can visualize these three pieces of the CO2 time series to better understand its structure."
   ]
  },
  {
   "cell_type": "code",
   "metadata": {},
   "execution_count": null,
   "outputs": [],
   "source": [
    "from statsmodels.tsa.seasonal import seasonal_decompose\n",
    "result = seasonal_decompose(co2, model='additive', period=12)\n",
    "fig = result.plot()\n",
    "fig.set_size_inches(10, 6)\n",
    "plt.tight_layout()\n",
    "plt.show()\n"
   ]
  },
  {
   "cell_type": "markdown",
   "metadata": {},
   "source": [
    "## Holt-Winters exponential smoothing\n",
    "\n",
    "Holt-Winters models level, trend and seasonality using exponential smoothing.\n",
    "Again we reserve the last two years of data for testing.\n",
    "An additive trend and seasonality model is fitted to the training set and used to forecast 24 months ahead.\n",
    "The resulting forecast is plotted along with the observed series for comparison."
   ]
  },
  {
   "cell_type": "code",
   "metadata": {},
   "execution_count": null,
   "outputs": [],
   "source": [
    "from statsmodels.tsa.holtwinters import ExponentialSmoothing\n",
    "train = co2.iloc[:-24]\n",
    "test = co2.iloc[-24:]\n",
    "model = ExponentialSmoothing(train, seasonal='add', trend='add', seasonal_periods=12)\n",
    "fit = model.fit()\n",
    "forecast = fit.forecast(24)\n",
    "plt.figure(figsize=(10,6))\n",
    "plt.plot(co2, label='Observed')\n",
    "plt.plot(forecast.index, forecast, color='red', label='Holt-Winters Forecast')\n",
    "plt.axvspan(test.index[0], test.index[-1], color='gray', alpha=0.1, label='Forecast Horizon')\n",
    "plt.title('Holt-Winters Forecast of CO2')\n",
    "plt.legend()\n",
    "plt.tight_layout()\n",
    "plt.show()\n"
   ]
  },
  {
   "cell_type": "markdown",
   "metadata": {},
   "source": [
    "## Autocorrelation and partial autocorrelation\n",
    "\n",
    "Finally we inspect the autocorrelation function (ACF) and partial autocorrelation function (PACF) of the CO2 series.\n",
    "These plots reveal how observations are correlated with previous time steps and help in selecting AR and MA orders for models like ARIMA."
   ]
  },
  {
   "cell_type": "code",
   "metadata": {},
   "execution_count": null,
   "outputs": [],
   "source": [
    "from statsmodels.graphics.tsaplots import plot_acf, plot_pacf\n",
    "fig, axes = plt.subplots(2,1,figsize=(10,8))\n",
    "plot_acf(co2, lags=40, ax=axes[0])\n",
    "plot_pacf(co2, lags=40, ax=axes[1])\n",
    "axes[0].set_title('Autocorrelation')\n",
    "axes[1].set_title('Partial Autocorrelation')\n",
    "plt.tight_layout()\n",
    "plt.show()\n"
   ]
  }
 ],
 "metadata": {},
 "nbformat": 4,
 "nbformat_minor": 5
}
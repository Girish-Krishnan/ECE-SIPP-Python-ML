{
 "cells": [
  {
   "cell_type": "markdown",
   "metadata": {},
   "source": [
    "# PyTorch Deep Learning Tutorials\n",
    "\n",
    "This notebook demonstrates basic PyTorch usage and simple neural network examples. Run the cell below if you need to install PyTorch. In Google Colab it is already available.\n"
   ]
  },
  {
   "cell_type": "code",
   "execution_count": null,
   "metadata": {},
   "outputs": [],
   "source": [
    "!pip install torch torchvision"
   ]
  },
  {
   "cell_type": "code",
   "execution_count": null,
   "metadata": {},
   "outputs": [],
   "source": [
    "import torch\n",
    "from torch import nn\n",
    "from torchvision import datasets, transforms\n",
    "from torch.utils.data import DataLoader"
   ]
  },
  {
   "cell_type": "markdown",
   "metadata": {},
   "source": [
    "## 0. Tensor basics"
   ]
  },
  {
   "cell_type": "code",
   "execution_count": null,
   "metadata": {},
   "outputs": [],
   "source": [
    "a = torch.tensor([[1.,2.],[3.,4.]])\n",
    "b = torch.rand(2,2)\n",
    "print('a:', a)\n",
    "print('b:', b)\n",
    "print('a + b:', a + b)\n",
    "print('a @ b:', a @ b)\n",
    "x = torch.tensor([2.0], requires_grad=True)\n",
    "y = x**2 + 3*x + 1\n",
    "y.backward()\n",
    "print('dy/dx at x=2:', x.grad.item())"
   ]
  },
  {
   "cell_type": "markdown",
   "metadata": {},
   "source": [
    "## 1. Train a simple MLP"
   ]
  },
  {
   "cell_type": "code",
   "execution_count": null,
   "metadata": {},
   "outputs": [],
   "source": [
     "device = 'cuda' if torch.cuda.is_available() else 'cpu'\n",
     "transform = transforms.Compose([transforms.ToTensor(), transforms.Normalize((0.5,), (0.5,))])\n",
     "full_train = datasets.MNIST(root='data', train=True, download=True, transform=transform)\n",
     "train_size = int(0.8 * len(full_train))\n",
     "val_size = len(full_train) - train_size\n",
     "train_ds, val_ds = torch.utils.data.random_split(full_train, [train_size, val_size])\n",
     "test_ds = datasets.MNIST(root='data', train=False, download=True, transform=transform)\n",
     "train_loader = DataLoader(train_ds, batch_size=64, shuffle=True)\n",
     "val_loader = DataLoader(val_ds, batch_size=64)\n",
     "test_loader = DataLoader(test_ds, batch_size=64)\n",
     "model = nn.Sequential(nn.Flatten(), nn.Linear(28*28, 128), nn.ReLU(), nn.Linear(128,10)).to(device)\n",
     "loss_fn = nn.CrossEntropyLoss()\n",
     "opt = torch.optim.Adam(model.parameters(), lr=1e-3)\n",
     "train_losses, val_losses = [], []\n",
     "for epoch in range(3):\n",
     "    model.train()\n",
     "    epoch_loss = 0\n",
     "    for imgs, labels in train_loader:\n",
     "        imgs, labels = imgs.to(device), labels.to(device)\n",
     "        opt.zero_grad()\n",
     "        out = model(imgs)\n",
     "        loss = loss_fn(out, labels)\n",
     "        loss.backward()\n",
     "        opt.step()\n",
     "        epoch_loss += loss.item()\n",
     "    train_losses.append(epoch_loss / len(train_loader))\n",
     "    model.eval()\n",
     "    val_loss = 0\n",
     "    with torch.no_grad():\n",
     "        for imgs, labels in val_loader:\n",
     "            imgs, labels = imgs.to(device), labels.to(device)\n",
     "            out = model(imgs)\n",
     "            val_loss += loss_fn(out, labels).item()\n",
     "    val_losses.append(val_loss / len(val_loader))\n",
     "    print(f'Epoch {epoch+1}: train_loss={train_losses[-1]:.4f}, val_loss={val_losses[-1]:.4f}')"
   ]
  },
  {
   "cell_type": "markdown",
   "metadata": {},
   "source": [
    "## 2. Evaluate and visualize"
   ]
  },
  {
   "cell_type": "code",
   "execution_count": null,
   "metadata": {},
   "outputs": [],
   "source": [
     "import matplotlib.pyplot as plt\n",
     "plt.plot(train_losses, label='train')\n",
     "plt.plot(val_losses, label='val')\n",
     "plt.xlabel('epoch'); plt.ylabel('loss'); plt.legend(); plt.show()\n",
     "correct = 0\n",
     "model.eval()\n",
     "with torch.no_grad():\n",
     "    for imgs, labels in test_loader:\n",
     "        imgs, labels = imgs.to(device), labels.to(device)\n",
     "        pred = model(imgs).argmax(dim=1)\n",
     "        correct += (pred == labels).sum().item()\n",
     "acc = correct / len(test_ds)\n",
     "print('Test accuracy:', acc)"
   ]
  },
  {
   "cell_type": "markdown",
   "metadata": {},
   "source": [
    "This short notebook gives a taste of working with PyTorch. Feel free to modify the code cells and experiment further!"
   ]
  }
 ],
 "metadata": {
  "kernelspec": {
   "display_name": "python3",
   "language": "python",
   "name": "python3"
  },
  "language_info": {
   "name": "python",
   "version": "3.11"
  }
 },
 "nbformat": 4,
 "nbformat_minor": 4
}

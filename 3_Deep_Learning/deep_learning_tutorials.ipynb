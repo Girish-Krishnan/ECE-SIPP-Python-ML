{
 "cells": [
  {
   "cell_type": "markdown",
   "metadata": {},
   "source": [
    "# PyTorch Deep Learning Tutorials\n",
    "\n",
    "This notebook mirrors the Python scripts in this directory and demonstrates core PyTorch functionality."
   ]
  },
  {
   "cell_type": "code",
   "execution_count": null,
   "metadata": {},
   "outputs": [],
   "source": [
    "import torch\n",
    "from torch import nn\n",
    "from torchvision import datasets, transforms, models\n",
    "from torch.utils.data import DataLoader, random_split\n",
    "import matplotlib.pyplot as plt\n"
   ]
  },
  {
   "cell_type": "markdown",
   "metadata": {},
   "source": [
    "## 0. Tensor basics"
   ]
  },
  {
   "cell_type": "code",
   "execution_count": null,
   "metadata": {},
   "outputs": [],
   "source": [
    "device = 'cuda' if torch.cuda.is_available() else 'cpu'\n",
    "print('Using device:', device)\n",
    "a = torch.tensor([[1.,2.],[3.,4.]], device=device)\n",
    "b = torch.rand(2,2, device=device)\n",
    "print('Tensor a:\n', a)\n",
    "print('Tensor b:\n', b)\n",
    "print('a + b:\n', a + b)\n",
    "print('a @ b:\n', a @ b)\n",
    "x = torch.tensor([2.0], requires_grad=True, device=device)\n",
    "y = x**2 + 3*x + 1\n",
    "y.backward()\n",
    "print('dy/dx at x=2:', x.grad.item())\n",
    "w = torch.randn(1, requires_grad=True, device=device)\n",
    "b_param = torch.randn(1, requires_grad=True, device=device)\n",
    "opt = torch.optim.SGD([w, b_param], lr=0.1)\n",
    "loss_fn = torch.nn.MSELoss()\n",
    "xs = torch.linspace(-1, 1, 10, device=device)\n",
    "ys = 2 * xs + 1\n",
    "for _ in range(100):\n",
    "    opt.zero_grad()\n",
    "    preds = w * xs + b_param\n",
    "    loss = loss_fn(preds, ys)\n",
    "    loss.backward()\n",
    "    opt.step()\n",
    "print('Fitted parameters:', w.item(), b_param.item())\n"
   ]
  },
  {
   "cell_type": "markdown",
   "metadata": {},
   "source": [
    "## 1. Train a simple MLP"
   ]
  },
  {
   "cell_type": "code",
   "execution_count": null,
   "metadata": {},
   "outputs": [],
   "source": [
    "transform = transforms.Compose([transforms.ToTensor(), transforms.Normalize((0.5,), (0.5,))])\n",
    "full_train = datasets.MNIST(root='data', train=True, download=True, transform=transform)\n",
    "train_size = int(0.8 * len(full_train))\n",
    "val_size = len(full_train) - train_size\n",
    "train_ds, val_ds = random_split(full_train, [train_size, val_size])\n",
    "test_ds = datasets.MNIST(root='data', train=False, download=True, transform=transform)\n",
    "train_loader = DataLoader(train_ds, batch_size=64, shuffle=True)\n",
    "val_loader = DataLoader(val_ds, batch_size=64)\n",
    "test_loader = DataLoader(test_ds, batch_size=64)\n",
    "model = nn.Sequential(nn.Flatten(), nn.Linear(28*28,128), nn.ReLU(), nn.Linear(128,10)).to(device)\n",
    "loss_fn = nn.CrossEntropyLoss()\n",
    "opt = torch.optim.Adam(model.parameters(), lr=1e-3)\n",
    "train_losses, val_losses = [], []\n",
    "for epoch in range(3):\n",
    "    model.train()\n",
    "    epoch_loss = 0\n",
    "    for imgs, labels in train_loader:\n",
    "        imgs, labels = imgs.to(device), labels.to(device)\n",
    "        opt.zero_grad()\n",
    "        out = model(imgs)\n",
    "        loss = loss_fn(out, labels)\n",
    "        loss.backward()\n",
    "        opt.step()\n",
    "        epoch_loss += loss.item()\n",
    "    train_losses.append(epoch_loss / len(train_loader))\n",
    "    model.eval()\n",
    "    val_loss = 0\n",
    "    with torch.no_grad():\n",
    "        for imgs, labels in val_loader:\n",
    "            imgs, labels = imgs.to(device), labels.to(device)\n",
    "            out = model(imgs)\n",
    "            val_loss += loss_fn(out, labels).item()\n",
    "    val_losses.append(val_loss / len(val_loader))\n",
    "    print(f'Epoch {epoch+1}: train_loss={train_losses[-1]:.4f}, val_loss={val_losses[-1]:.4f}')\n"
   ]
  },
  {
   "cell_type": "markdown",
   "metadata": {},
   "source": [
    "### Evaluate MLP"
   ]
  },
  {
   "cell_type": "code",
   "execution_count": null,
   "metadata": {},
   "outputs": [],
   "source": [
    "plt.figure()\n",
    "plt.plot(range(1, 4), train_losses, label='Train')\n",
    "plt.plot(range(1, 4), val_losses, label='Val')\n",
    "plt.xlabel('Epoch'); plt.ylabel('Loss'); plt.legend(); plt.show()\n",
    "model.eval()\n",
    "correct = 0\n",
    "with torch.no_grad():\n",
    "    for imgs, labels in test_loader:\n",
    "        preds = model(imgs.to(device)).argmax(dim=1)\n",
    "        correct += (preds == labels.to(device)).sum().item()\n",
    "acc = correct / len(test_ds)\n",
    "print('Test accuracy:', acc)\n",
    "imgs, labels = next(iter(test_loader))\n",
    "with torch.no_grad():\n",
    "    preds = model(imgs.to(device)).argmax(dim=1).cpu()\n",
    "fig, axes = plt.subplots(1,6,figsize=(12,2))\n",
    "for i, ax in enumerate(axes):\n",
    "    ax.imshow(imgs[i].squeeze(), cmap='gray')\n",
    "    ax.set_title(f'{preds[i].item()} / {labels[i].item()}')\n",
    "    ax.axis('off')\n",
    "plt.tight_layout(); plt.show()\n"
   ]
  },
  {
   "cell_type": "markdown",
   "metadata": {},
   "source": [
    "## 2. Train a basic CNN"
   ]
  },
  {
   "cell_type": "code",
   "execution_count": null,
   "metadata": {},
   "outputs": [],
   "source": [
    "class SimpleCNN(nn.Module):\n",
    "    def __init__(self):\n",
    "        super().__init__()\n",
    "        self.conv = nn.Sequential(\n",
    "            nn.Conv2d(1,32,3,padding=1), nn.ReLU(), nn.MaxPool2d(2),\n",
    "            nn.Conv2d(32,64,3,padding=1), nn.ReLU(), nn.MaxPool2d(2)\n",
    "        )\n",
    "        self.fc = nn.Sequential(nn.Flatten(), nn.Linear(7*7*64,128), nn.ReLU(), nn.Linear(128,10))\n",
    "    def forward(self,x):\n",
    "        return self.fc(self.conv(x))\n",
    "model = SimpleCNN().to(device)\n",
    "criterion = nn.CrossEntropyLoss()\n",
    "opt = torch.optim.Adam(model.parameters(), lr=1e-3)\n",
    "train_losses, val_losses = [], []\n",
    "for epoch in range(3):\n",
    "    model.train(); epoch_loss=0\n",
    "    for imgs, labels in train_loader:\n",
    "        imgs, labels = imgs.to(device), labels.to(device)\n",
    "        opt.zero_grad(); out = model(imgs); loss = criterion(out, labels);\n",
    "        loss.backward(); opt.step(); epoch_loss += loss.item()\n",
    "    train_losses.append(epoch_loss/len(train_loader))\n",
    "    model.eval(); val_loss=0\n",
    "    with torch.no_grad():\n",
    "        for imgs, labels in val_loader:\n",
    "            val_loss += criterion(model(imgs.to(device)), labels.to(device)).item()\n",
    "    val_losses.append(val_loss/len(val_loader))\n",
    "    print(f'Epoch {epoch+1}: train_loss={train_losses[-1]:.4f}, val_loss={val_losses[-1]:.4f}')\n"
   ]
  },
  {
   "cell_type": "markdown",
   "metadata": {},
   "source": [
    "### Evaluate CNN"
   ]
  },
  {
   "cell_type": "code",
   "execution_count": null,
   "metadata": {},
   "outputs": [],
   "source": [
    "plt.figure()\n",
    "plt.plot(range(1,4), train_losses, label='Train')\n",
    "plt.plot(range(1,4), val_losses, label='Val')\n",
    "plt.xlabel('Epoch'); plt.ylabel('Loss'); plt.legend(); plt.show()\n",
    "model.eval(); correct=0\n",
    "with torch.no_grad():\n",
    "    for imgs, labels in test_loader:\n",
    "        preds = model(imgs.to(device)).argmax(dim=1)\n",
    "        correct += (preds == labels.to(device)).sum().item()\n",
    "acc = correct / len(test_ds)\n",
    "print('Test accuracy:', acc)\n",
    "imgs, labels = next(iter(test_loader))\n",
    "with torch.no_grad(): preds = model(imgs.to(device)).argmax(dim=1).cpu()\n",
    "fig, axes = plt.subplots(1,6,figsize=(12,2))\n",
    "for i, ax in enumerate(axes):\n",
    "    ax.imshow(imgs[i].squeeze(), cmap='gray')\n",
    "    ax.set_title(f'{preds[i].item()} / {labels[i].item()}')\n",
    "    ax.axis('off')\n",
    "plt.tight_layout(); plt.show()\n"
   ]
  },
  {
   "cell_type": "markdown",
   "metadata": {},
   "source": [
    "## 3. Finetune a pretrained ResNet"
   ]
  },
  {
   "cell_type": "code",
   "execution_count": null,
   "metadata": {},
   "outputs": [],
   "source": [
    "transform = transforms.Compose([transforms.Resize((224,224)), transforms.ToTensor(), transforms.Normalize((0.5,0.5,0.5),(0.5,0.5,0.5))])\n",
    "full_train = datasets.CIFAR10(root='data', train=True, download=True, transform=transform)\n",
    "train_size = int(0.8 * len(full_train))\n",
    "val_size = len(full_train) - train_size\n",
    "train_ds, val_ds = random_split(full_train, [train_size, val_size])\n",
    "test_ds = datasets.CIFAR10(root='data', train=False, download=True, transform=transform)\n",
    "train_loader = DataLoader(train_ds, batch_size=32, shuffle=True)\n",
    "val_loader = DataLoader(val_ds, batch_size=32)\n",
    "test_loader = DataLoader(test_ds, batch_size=32)\n",
    "model = models.resnet18(weights=models.ResNet18_Weights.DEFAULT)\n",
    "model.fc = nn.Linear(model.fc.in_features, 10)\n",
    "model.to(device)\n",
    "criterion = nn.CrossEntropyLoss()\n",
    "opt = torch.optim.Adam(model.parameters(), lr=1e-4)\n",
    "train_losses, val_losses = [], []\n",
    "for epoch in range(3):\n",
    "    model.train(); epoch_loss=0\n",
    "    for imgs, labels in train_loader:\n",
    "        imgs, labels = imgs.to(device), labels.to(device)\n",
    "        opt.zero_grad(); out = model(imgs); loss = criterion(out, labels);\n",
    "        loss.backward(); opt.step(); epoch_loss += loss.item()\n",
    "    train_losses.append(epoch_loss/len(train_loader))\n",
    "    model.eval(); val_loss=0\n",
    "    with torch.no_grad():\n",
    "        for imgs, labels in val_loader:\n",
    "            val_loss += criterion(model(imgs.to(device)), labels.to(device)).item()\n",
    "    val_losses.append(val_loss/len(val_loader))\n",
    "    print(f'Epoch {epoch+1}: train_loss={train_losses[-1]:.4f}, val_loss={val_losses[-1]:.4f}')\n"
   ]
  },
  {
   "cell_type": "markdown",
   "metadata": {},
   "source": [
    "### Evaluate ResNet"
   ]
  },
  {
   "cell_type": "code",
   "execution_count": null,
   "metadata": {},
   "outputs": [],
   "source": [
    "plt.figure()\n",
    "plt.plot(range(1,4), train_losses, label='Train')\n",
    "plt.plot(range(1,4), val_losses, label='Val')\n",
    "plt.xlabel('Epoch'); plt.ylabel('Loss'); plt.legend(); plt.show()\n",
    "model.eval(); correct=0\n",
    "with torch.no_grad():\n",
    "    for imgs, labels in test_loader:\n",
    "        preds = model(imgs.to(device)).argmax(dim=1)\n",
    "        correct += (preds == labels.to(device)).sum().item()\n",
    "acc = correct / len(test_ds)\n",
    "print('Test accuracy:', acc)\n",
    "imgs, labels = next(iter(test_loader))\n",
    "with torch.no_grad(): preds = model(imgs.to(device)).argmax(dim=1).cpu()\n",
    "imgs = imgs * 0.5 + 0.5\n",
    "fig, axes = plt.subplots(2,3,figsize=(9,6))\n",
    "for i, ax in enumerate(axes.flat):\n",
    "    ax.imshow(imgs[i].permute(1,2,0))\n",
    "    ax.set_title(f'{preds[i].item()} / {labels[i].item()}')\n",
    "    ax.axis('off')\n",
    "plt.tight_layout(); plt.show()\n"
   ]
  },
  {
   "cell_type": "markdown",
   "metadata": {},
   "source": [
    "## 4. Autoencoder for MNIST"
   ]
  },
  {
   "cell_type": "code",
   "execution_count": null,
   "metadata": {},
   "outputs": [],
   "source": [
    "class AutoEncoder(nn.Module):\n",
    "    def __init__(self):\n",
    "        super().__init__()\n",
    "        self.encoder = nn.Sequential(nn.Flatten(), nn.Linear(28*28,64), nn.ReLU())\n",
    "        self.decoder = nn.Sequential(nn.Linear(64,28*28), nn.Sigmoid(), nn.Unflatten(1,(1,28,28)))\n",
    "    def forward(self,x):\n",
    "        return self.decoder(self.encoder(x))\n",
    "model = AutoEncoder().to(device)\n",
    "criterion = nn.MSELoss()\n",
    "opt = torch.optim.Adam(model.parameters(), lr=1e-3)\n",
    "train_losses, val_losses = [], []\n",
    "for epoch in range(3):\n",
    "    model.train(); epoch_loss=0\n",
    "    for imgs, _ in train_loader:\n",
    "        imgs = imgs.to(device); opt.zero_grad(); out = model(imgs);\n",
    "        loss = criterion(out, imgs); loss.backward(); opt.step(); epoch_loss += loss.item()\n",
    "    train_losses.append(epoch_loss/len(train_loader))\n",
    "    model.eval(); val_loss=0\n",
    "    with torch.no_grad():\n",
    "        for imgs, _ in val_loader:\n",
    "            val_loss += criterion(model(imgs.to(device)), imgs.to(device)).item()\n",
    "    val_losses.append(val_loss/len(val_loader))\n",
    "    print(f'Epoch {epoch+1}: train_loss={train_losses[-1]:.4f}, val_loss={val_losses[-1]:.4f}')\n"
   ]
  },
  {
   "cell_type": "markdown",
   "metadata": {},
   "source": [
    "### Evaluate Autoencoder"
   ]
  },
  {
   "cell_type": "code",
   "execution_count": null,
   "metadata": {},
   "outputs": [],
   "source": [
    "plt.figure()\n",
    "plt.plot(range(1,4), train_losses, label='Train')\n",
    "plt.plot(range(1,4), val_losses, label='Val')\n",
    "plt.xlabel('Epoch'); plt.ylabel('Loss'); plt.legend(); plt.show()\n",
    "model.eval(); test_loss=0\n",
    "with torch.no_grad():\n",
    "    for imgs, _ in test_loader:\n",
    "        out = model(imgs.to(device)); test_loss += criterion(out, imgs.to(device)).item()\n",
    "test_loss /= len(test_loader); print('Test reconstruction loss:', test_loss)\n",
    "imgs, _ = next(iter(test_loader))\n",
    "with torch.no_grad(): recon = model(imgs.to(device)).cpu()\n",
    "fig, axes = plt.subplots(2,6,figsize=(12,4))\n",
    "for i in range(6):\n",
    "    axes[0,i].imshow(imgs[i].squeeze(), cmap='gray'); axes[0,i].axis('off')\n",
    "    axes[1,i].imshow(recon[i].squeeze(), cmap='gray'); axes[1,i].axis('off')\n",
    "plt.tight_layout(); plt.show()\n"
   ]
  },
  {
   "cell_type": "markdown",
   "metadata": {},
   "source": [
    "These examples provide a starting point for experimenting with PyTorch and computer vision tasks."
   ]
  }
 ],
 "metadata": {
  "kernelspec": {
   "display_name": "python3",
   "language": "python",
   "name": "python3"
  },
  "language_info": {
   "name": "python",
   "version": "3.11"
  }
 },
 "nbformat": 4,
 "nbformat_minor": 4
}
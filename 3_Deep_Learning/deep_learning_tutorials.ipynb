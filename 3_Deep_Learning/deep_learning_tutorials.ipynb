{
 "cells": [
  {
   "cell_type": "markdown",
   "metadata": {},
   "source": [
    "# PyTorch Deep Learning Tutorials\n",
    "\n",
    "This notebook mirrors the Python scripts in this directory and demonstrates core PyTorch functionality.\n",
    "\n",
    "PyTorch documentation: [PyTorch Docs](https://pytorch.org/docs/stable/index.html)"
   ]
  },
  {
   "cell_type": "code",
   "execution_count": null,
   "metadata": {},
   "outputs": [],
   "source": [
    "import torch\n",
    "from torch import nn\n",
    "from torchvision import datasets, transforms, models\n",
    "from torch.utils.data import DataLoader, random_split\n",
    "import matplotlib.pyplot as plt"
   ]
  },
  {
   "cell_type": "markdown",
   "metadata": {},
   "source": [
    "## 0. Tensor basics"
   ]
  },
  {
   "cell_type": "code",
   "execution_count": null,
   "metadata": {},
   "outputs": [],
   "source": [
    "device = 'cuda' if torch.cuda.is_available() else 'cpu'\n",
    "print('Using device:', device)"
   ]
  },
  {
   "cell_type": "code",
   "execution_count": null,
   "metadata": {},
   "outputs": [],
   "source": [
    "a = torch.tensor([[1.,2.],[3.,4.]], device=device)\n",
    "b = torch.rand(2,2, device=device)\n",
    "print('Tensor a:', a)\n",
    "print('Tensor b:', b)\n",
    "print('a + b:', a + b)\n",
    "print('a @ b:', a @ b)"
   ]
  },
  {
   "cell_type": "code",
   "execution_count": null,
   "metadata": {},
   "outputs": [],
   "source": [
    "x = torch.tensor([2.0], requires_grad=True, device=device)\n",
    "y = x**2 + 3*x + 1\n",
    "y.backward()\n",
    "print('dy/dx at x=2:', x.grad.item())"
   ]
  },
  {
   "cell_type": "code",
   "execution_count": null,
   "metadata": {},
   "outputs": [],
   "source": [
    "w = torch.randn(1, requires_grad=True, device=device)\n",
    "b_param = torch.randn(1, requires_grad=True, device=device)\n",
    "\n",
    "xs = torch.linspace(-1, 1, 10, device=device)\n",
    "ys = 2 * xs + 1"
   ]
  },
  {
   "cell_type": "code",
   "execution_count": null,
   "metadata": {},
   "outputs": [],
   "source": [
    "opt = torch.optim.SGD([w, b_param], lr=0.1)\n",
    "loss_fn = torch.nn.MSELoss()"
   ]
  },
  {
   "cell_type": "code",
   "execution_count": null,
   "metadata": {},
   "outputs": [],
   "source": [
    "num_iterations = 100\n",
    "for i in range(num_iterations):\n",
    "    opt.zero_grad()\n",
    "    preds = w * xs + b_param\n",
    "    loss = loss_fn(preds, ys)\n",
    "    print('Iteration:', i, 'Loss:', loss.item())\n",
    "    loss.backward()\n",
    "    opt.step()\n",
    "\n",
    "print('Fitted parameters:', w.item(), b_param.item())"
   ]
  },
  {
   "cell_type": "markdown",
   "metadata": {},
   "source": [
    "## 1. Train a simple MLP"
   ]
  },
  {
   "cell_type": "code",
   "execution_count": null,
   "metadata": {},
   "outputs": [],
   "source": [
    "transform = transforms.Compose([transforms.ToTensor(), transforms.Normalize((0.5,), (0.5,))])\n",
    "full_train = datasets.MNIST(root='data', train=True, download=True, transform=transform)"
   ]
  },
  {
   "cell_type": "code",
   "execution_count": null,
   "metadata": {},
   "outputs": [],
   "source": [
    "train_size = int(0.8 * len(full_train))\n",
    "val_size = len(full_train) - train_size\n",
    "train_ds, val_ds = random_split(full_train, [train_size, val_size])"
   ]
  },
  {
   "cell_type": "code",
   "execution_count": null,
   "metadata": {},
   "outputs": [],
   "source": [
    "test_ds = datasets.MNIST(root='data', train=False, download=True, transform=transform)"
   ]
  },
  {
   "cell_type": "code",
   "execution_count": null,
   "metadata": {},
   "outputs": [],
   "source": [
    "train_loader = DataLoader(train_ds, batch_size=64, shuffle=True)\n",
    "val_loader = DataLoader(val_ds, batch_size=64)\n",
    "test_loader = DataLoader(test_ds, batch_size=64)"
   ]
  },
  {
   "cell_type": "markdown",
   "metadata": {},
   "source": [
    "### Architecture Explanation: Simple MLP for MNIST\n",
    "\n",
    "The model defined here is a simple Multi-Layer Perceptron (MLP) designed for image classification on the MNIST dataset. The architecture consists of the following layers:\n",
    "\n",
    "- **Flatten**: Converts each 28x28 input image into a 784-dimensional vector.\n",
    "- **Linear (784 → 128)**: A fully connected layer mapping the flattened input to 128 hidden units.\n",
    "- **ReLU**: Applies the Rectified Linear Unit activation function, introducing non-linearity.\n",
    "- **Linear (128 → 10)**: A fully connected output layer mapping the 128 features to 10 classes (digits 0–9).\n",
    "\n",
    "The final output provides class scores for each digit."
   ]
  },
  {
   "cell_type": "code",
   "execution_count": null,
   "metadata": {},
   "outputs": [],
   "source": [
    "model = nn.Sequential(\n",
    "                nn.Flatten(), \n",
    "                nn.Linear(28*28,128), \n",
    "                nn.ReLU(), \n",
    "                nn.Linear(128,10)\n",
    "        ).to(device)\n",
    "\n",
    "loss_fn = nn.CrossEntropyLoss()\n",
    "opt = torch.optim.Adam(model.parameters(), lr=1e-3)"
   ]
  },
  {
   "cell_type": "code",
   "execution_count": null,
   "metadata": {},
   "outputs": [],
   "source": [
    "train_losses, val_losses = [], []\n",
    "num_epochs = 10\n",
    "\n",
    "for epoch in range(num_epochs):\n",
    "    model.train()\n",
    "    epoch_loss = 0\n",
    "    for imgs, labels in train_loader:\n",
    "        imgs, labels = imgs.to(device), labels.to(device)\n",
    "        opt.zero_grad()\n",
    "        out = model(imgs)\n",
    "        loss = loss_fn(out, labels)\n",
    "        loss.backward()\n",
    "        opt.step()\n",
    "        epoch_loss += loss.item()\n",
    "    \n",
    "    train_losses.append(epoch_loss / len(train_loader))\n",
    "    model.eval()\n",
    "    val_loss = 0\n",
    "    \n",
    "    with torch.no_grad():\n",
    "        for imgs, labels in val_loader:\n",
    "            imgs, labels = imgs.to(device), labels.to(device)\n",
    "            out = model(imgs)\n",
    "            val_loss += loss_fn(out, labels).item()\n",
    "    \n",
    "    val_losses.append(val_loss / len(val_loader))\n",
    "    print(f'Epoch {epoch+1}: train_loss={train_losses[-1]:.4f}, val_loss={val_losses[-1]:.4f}')\n"
   ]
  },
  {
   "cell_type": "markdown",
   "metadata": {},
   "source": [
    "### Evaluate MLP on the test set"
   ]
  },
  {
   "cell_type": "code",
   "execution_count": null,
   "metadata": {},
   "outputs": [],
   "source": [
    "plt.figure()\n",
    "plt.plot(range(1, num_epochs+1), train_losses, label='Train')\n",
    "plt.plot(range(1, num_epochs+1), val_losses, label='Val')\n",
    "plt.xlabel('Epoch')\n",
    "plt.ylabel('Loss')\n",
    "plt.legend()\n",
    "plt.show()"
   ]
  },
  {
   "cell_type": "code",
   "execution_count": null,
   "metadata": {},
   "outputs": [],
   "source": [
    "model.eval()\n",
    "correct = 0\n",
    "with torch.no_grad():\n",
    "    for imgs, labels in test_loader:\n",
    "        preds = model(imgs.to(device)).argmax(dim=1)\n",
    "        correct += (preds == labels.to(device)).sum().item()\n",
    "acc = correct / len(test_ds)\n",
    "print('Test accuracy:', acc)"
   ]
  },
  {
   "cell_type": "code",
   "execution_count": null,
   "metadata": {},
   "outputs": [],
   "source": [
    "imgs, labels = next(iter(test_loader))\n",
    "\n",
    "with torch.no_grad():\n",
    "    preds = model(imgs.to(device)).argmax(dim=1).cpu()\n",
    "    \n",
    "fig, axes = plt.subplots(1,6,figsize=(12,2))\n",
    "\n",
    "for i, ax in enumerate(axes):\n",
    "    ax.imshow(imgs[i].squeeze(), cmap='gray')\n",
    "    ax.set_title(f'{preds[i].item()} / {labels[i].item()}')\n",
    "    ax.axis('off')\n",
    "\n",
    "plt.tight_layout()\n",
    "plt.show()"
   ]
  },
  {
   "cell_type": "markdown",
   "metadata": {},
   "source": [
    "## 2. Train a basic CNN"
   ]
  },
  {
   "cell_type": "markdown",
   "metadata": {},
   "source": [
    "### Architecture Explanation: SimpleCNN for MNIST\n",
    "\n",
    "The `SimpleCNN` model is a basic convolutional neural network designed for image classification on the MNIST dataset. Its architecture consists of two main parts:\n",
    "\n",
    "- **Convolutional Feature Extractor (`self.conv`)**:\n",
    "    - `Conv2d(1, 32, 3, padding=1)`: Applies 32 filters of size 3x3 to the input image (1 channel), preserving spatial dimensions with padding.\n",
    "    - `ReLU()`: Introduces non-linearity.\n",
    "    - `MaxPool2d(2)`: Reduces spatial dimensions by half (from 28x28 to 14x14).\n",
    "    - `Conv2d(32, 64, 3, padding=1)`: Applies 64 filters of size 3x3, again preserving spatial dimensions.\n",
    "    - `ReLU()`: Non-linearity.\n",
    "    - `MaxPool2d(2)`: Further reduces spatial dimensions by half (from 14x14 to 7x7).\n",
    "\n",
    "- **Fully Connected Classifier (`self.fc`)**:\n",
    "    - `Flatten()`: Flattens the output from the convolutional layers (shape: 64 channels × 7 × 7 = 3136 features).\n",
    "    - `Linear(3136, 128)`: Fully connected layer with 128 hidden units.\n",
    "    - `ReLU()`: Non-linearity.\n",
    "    - `Linear(128, 10)`: Output layer mapping to 10 classes (digits 0–9).\n",
    "\n",
    "The model processes input images through the convolutional layers to extract features, then classifies them using the fully connected layers."
   ]
  },
  {
   "cell_type": "code",
   "execution_count": null,
   "metadata": {},
   "outputs": [],
   "source": [
    "class SimpleCNN(nn.Module):\n",
    "    def __init__(self):\n",
    "        super().__init__()\n",
    "        self.conv = nn.Sequential(\n",
    "            nn.Conv2d(1,32,3,padding=1),\n",
    "            nn.ReLU(), \n",
    "            nn.MaxPool2d(2),\n",
    "            nn.Conv2d(32,64,3,padding=1),\n",
    "            nn.ReLU(),\n",
    "            nn.MaxPool2d(2)\n",
    "        )\n",
    "\n",
    "        self.fc = nn.Sequential(\n",
    "            nn.Flatten(),\n",
    "            nn.Linear(7*7*64,128), \n",
    "            nn.ReLU(), \n",
    "            nn.Linear(128,10)\n",
    "        )\n",
    "        \n",
    "    def forward(self,x):\n",
    "        return self.fc(self.conv(x))"
   ]
  },
  {
   "cell_type": "code",
   "execution_count": null,
   "metadata": {},
   "outputs": [],
   "source": [
    "model = SimpleCNN().to(device)\n",
    "criterion = nn.CrossEntropyLoss()\n",
    "learning_rate = 1e-3\n",
    "opt = torch.optim.Adam(model.parameters(), lr=learning_rate)\n",
    "train_losses, val_losses = [], []\n",
    "num_epochs = 10"
   ]
  },
  {
   "cell_type": "code",
   "execution_count": null,
   "metadata": {},
   "outputs": [],
   "source": [
    "for epoch in range(num_epochs):\n",
    "    \n",
    "    model.train()\n",
    "    epoch_loss=0\n",
    "    \n",
    "    for imgs, labels in train_loader:\n",
    "        imgs, labels = imgs.to(device), labels.to(device)\n",
    "        opt.zero_grad()\n",
    "        out = model(imgs)\n",
    "        loss = criterion(out, labels)\n",
    "        loss.backward()\n",
    "        opt.step()\n",
    "        epoch_loss += loss.item()\n",
    "    train_losses.append(epoch_loss/len(train_loader))\n",
    "    \n",
    "    model.eval()\n",
    "    val_loss=0\n",
    "    \n",
    "    with torch.no_grad():\n",
    "        for imgs, labels in val_loader:\n",
    "            val_loss += criterion(model(imgs.to(device)), labels.to(device)).item()\n",
    "    val_losses.append(val_loss/len(val_loader))\n",
    "    \n",
    "    print(f'Epoch {epoch+1}: train_loss={train_losses[-1]:.4f}, val_loss={val_losses[-1]:.4f}')"
   ]
  },
  {
   "cell_type": "markdown",
   "metadata": {},
   "source": [
    "### Evaluate CNN"
   ]
  },
  {
   "cell_type": "code",
   "execution_count": null,
   "metadata": {},
   "outputs": [],
   "source": [
    "plt.figure()\n",
    "plt.plot(range(1,num_epochs+1), train_losses, label='Train')\n",
    "plt.plot(range(1,num_epochs+1), val_losses, label='Val')\n",
    "plt.xlabel('Epoch')\n",
    "plt.ylabel('Loss')\n",
    "plt.legend()\n",
    "plt.show()"
   ]
  },
  {
   "cell_type": "code",
   "execution_count": null,
   "metadata": {},
   "outputs": [],
   "source": [
    "model.eval()\n",
    "correct=0\n",
    "with torch.no_grad():\n",
    "    for imgs, labels in test_loader:\n",
    "        preds = model(imgs.to(device)).argmax(dim=1)\n",
    "        correct += (preds == labels.to(device)).sum().item()\n",
    "acc = correct / len(test_ds)\n",
    "print('Test accuracy:', acc)"
   ]
  },
  {
   "cell_type": "code",
   "execution_count": null,
   "metadata": {},
   "outputs": [],
   "source": [
    "imgs, labels = next(iter(test_loader))\n",
    "\n",
    "with torch.no_grad():\n",
    "    preds = model(imgs.to(device)).argmax(dim=1).cpu()\n",
    "\n",
    "fig, axes = plt.subplots(1,6,figsize=(12,2))\n",
    "\n",
    "for i, ax in enumerate(axes):\n",
    "    ax.imshow(imgs[i].squeeze(), cmap='gray')\n",
    "    ax.set_title(f'{preds[i].item()} / {labels[i].item()}')\n",
    "    ax.axis('off')\n",
    "\n",
    "plt.tight_layout()\n",
    "plt.show()"
   ]
  },
  {
   "cell_type": "markdown",
   "metadata": {},
   "source": [
    "## 3. Finetune a pretrained ResNet"
   ]
  },
  {
   "cell_type": "code",
   "execution_count": null,
   "metadata": {},
   "outputs": [],
   "source": [
    "full_train = datasets.CIFAR10(root='data', train=True, download=True, transform=transform)"
   ]
  },
  {
   "cell_type": "code",
   "execution_count": null,
   "metadata": {},
   "outputs": [],
   "source": [
    "transform = transforms.Compose(\n",
    "                [transforms.Resize((224,224)), \n",
    "                 transforms.ToTensor(), \n",
    "                 transforms.Normalize((0.5,0.5,0.5),(0.5,0.5,0.5))]\n",
    "            )\n",
    "\n",
    "train_size = int(0.8 * len(full_train))\n",
    "val_size = len(full_train) - train_size"
   ]
  },
  {
   "cell_type": "code",
   "execution_count": null,
   "metadata": {},
   "outputs": [],
   "source": [
    "train_ds, val_ds = random_split(full_train, [train_size, val_size])"
   ]
  },
  {
   "cell_type": "code",
   "execution_count": null,
   "metadata": {},
   "outputs": [],
   "source": [
    "test_ds = datasets.CIFAR10(root='data', train=False, download=True, transform=transform)"
   ]
  },
  {
   "cell_type": "code",
   "execution_count": null,
   "metadata": {},
   "outputs": [],
   "source": [
    "train_loader = DataLoader(train_ds, batch_size=32, shuffle=True)\n",
    "val_loader = DataLoader(val_ds, batch_size=32)\n",
    "test_loader = DataLoader(test_ds, batch_size=32)"
   ]
  },
  {
   "cell_type": "code",
   "execution_count": null,
   "metadata": {},
   "outputs": [],
   "source": [
    "model = models.resnet18(weights=models.ResNet18_Weights.DEFAULT)\n",
    "model"
   ]
  },
  {
   "cell_type": "code",
   "execution_count": null,
   "metadata": {},
   "outputs": [],
   "source": [
    "model.fc = nn.Linear(model.fc.in_features, 10)"
   ]
  },
  {
   "cell_type": "code",
   "execution_count": null,
   "metadata": {},
   "outputs": [],
   "source": [
    "model.to(device)\n",
    "criterion = nn.CrossEntropyLoss()\n",
    "opt = torch.optim.Adam(model.parameters(), lr=1e-4)"
   ]
  },
  {
   "cell_type": "code",
   "execution_count": null,
   "metadata": {},
   "outputs": [],
   "source": [
    "train_losses, val_losses = [], []\n",
    "num_epochs = 10\n",
    "\n",
    "for epoch in range(num_epochs):\n",
    "    model.train()\n",
    "    epoch_loss=0\n",
    "    for imgs, labels in train_loader:\n",
    "        imgs, labels = imgs.to(device), labels.to(device)\n",
    "        opt.zero_grad()\n",
    "        out = model(imgs)\n",
    "        loss = criterion(out, labels)\n",
    "        loss.backward()\n",
    "        opt.step()\n",
    "        epoch_loss += loss.item()\n",
    "\n",
    "    train_losses.append(epoch_loss/len(train_loader))\n",
    "    \n",
    "    model.eval()\n",
    "    val_loss=0\n",
    "    \n",
    "    with torch.no_grad():\n",
    "        for imgs, labels in val_loader:\n",
    "            val_loss += criterion(model(imgs.to(device)), labels.to(device)).item()\n",
    "    \n",
    "    val_losses.append(val_loss/len(val_loader))\n",
    "    print(f'Epoch {epoch+1}: train_loss={train_losses[-1]:.4f}, val_loss={val_losses[-1]:.4f}')"
   ]
  },
  {
   "cell_type": "markdown",
   "metadata": {},
   "source": [
    "### Evaluate ResNet"
   ]
  },
  {
   "cell_type": "code",
   "execution_count": null,
   "metadata": {},
   "outputs": [],
   "source": [
    "plt.figure()\n",
    "plt.plot(range(1,num_epochs+1), train_losses, label='Train')\n",
    "plt.plot(range(1,num_epochs+1), val_losses, label='Val')\n",
    "plt.xlabel('Epoch')\n",
    "plt.ylabel('Loss')\n",
    "plt.legend()\n",
    "plt.show()"
   ]
  },
  {
   "cell_type": "code",
   "execution_count": null,
   "metadata": {},
   "outputs": [],
   "source": [
    "model.eval()\n",
    "correct=0\n",
    "with torch.no_grad():\n",
    "    for imgs, labels in test_loader:\n",
    "        preds = model(imgs.to(device)).argmax(dim=1)\n",
    "        correct += (preds == labels.to(device)).sum().item()\n",
    "acc = correct / len(test_ds)\n",
    "print('Test accuracy:', acc)"
   ]
  },
  {
   "cell_type": "code",
   "execution_count": null,
   "metadata": {},
   "outputs": [],
   "source": [
    "imgs, labels = next(iter(test_loader))\n",
    "with torch.no_grad():\n",
    "    preds = model(imgs.to(device)).argmax(dim=1).cpu()\n",
    "\n",
    "imgs = imgs * 0.5 + 0.5\n",
    "fig, axes = plt.subplots(2,3,figsize=(9,6))\n",
    "for i, ax in enumerate(axes.flat):\n",
    "    ax.imshow(imgs[i].permute(1,2,0))\n",
    "    ax.set_title(f'{preds[i].item()} / {labels[i].item()}')\n",
    "    ax.axis('off')\n",
    "\n",
    "plt.tight_layout()\n",
    "plt.show()"
   ]
  },
  {
   "cell_type": "markdown",
   "metadata": {},
   "source": [
    "## 4. Autoencoder for MNIST"
   ]
  },
  {
   "cell_type": "code",
   "execution_count": null,
   "metadata": {},
   "outputs": [],
   "source": [
    "class AutoEncoder(nn.Module):\n",
    "    def __init__(self):\n",
    "        super().__init__()\n",
    "        self.encoder = nn.Sequential(\n",
    "                            nn.Flatten(), \n",
    "                            nn.Linear(28*28,64), \n",
    "                            nn.ReLU()\n",
    "        )\n",
    "\n",
    "        self.decoder = nn.Sequential(\n",
    "            nn.Linear(64,28*28), \n",
    "            nn.Sigmoid(), \n",
    "            nn.Unflatten(1,(1,28,28))\n",
    "        )\n",
    "\n",
    "    def forward(self,x):\n",
    "        return self.decoder(self.encoder(x))"
   ]
  },
  {
   "cell_type": "code",
   "execution_count": null,
   "metadata": {},
   "outputs": [],
   "source": [
    "# Redefine the MNIST dataset here\n",
    "transform = transforms.Compose([transforms.ToTensor(), transforms.Normalize((0.5,), (0.5,))])\n",
    "full_train = datasets.MNIST(root='data', train=True, download=True, transform=transform)\n",
    "train_size = int(0.8 * len(full_train))\n",
    "val_size = len(full_train) - train_size\n",
    "train_ds, val_ds = random_split(full_train, [train_size, val_size])\n",
    "test_ds = datasets.MNIST(root='data', train=False, download=True, transform=transform)\n",
    "train_loader = DataLoader(train_ds, batch_size=64, shuffle=True)\n",
    "val_loader = DataLoader(val_ds, batch_size=64)\n",
    "test_loader = DataLoader(test_ds, batch_size=64)"
   ]
  },
  {
   "cell_type": "code",
   "execution_count": null,
   "metadata": {},
   "outputs": [],
   "source": [
    "model = AutoEncoder().to(device)\n",
    "criterion = nn.MSELoss()\n",
    "opt = torch.optim.Adam(model.parameters(), lr=1e-3)"
   ]
  },
  {
   "cell_type": "code",
   "execution_count": null,
   "metadata": {},
   "outputs": [],
   "source": [
    "train_losses, val_losses = [], []\n",
    "num_epochs = 10\n",
    "\n",
    "for epoch in range(num_epochs):\n",
    "    model.train()\n",
    "    epoch_loss=0\n",
    "    for imgs, _ in train_loader:\n",
    "        imgs = imgs.to(device)\n",
    "        opt.zero_grad()\n",
    "        out = model(imgs)\n",
    "        loss = criterion(out, imgs)\n",
    "        loss.backward()\n",
    "        opt.step()\n",
    "        epoch_loss += loss.item()\n",
    "    \n",
    "    train_losses.append(epoch_loss/len(train_loader))\n",
    "    \n",
    "    model.eval()\n",
    "    val_loss=0\n",
    "    with torch.no_grad():\n",
    "        for imgs, _ in val_loader:\n",
    "            val_loss += criterion(model(imgs.to(device)), imgs.to(device)).item()\n",
    "    \n",
    "    val_losses.append(val_loss/len(val_loader))\n",
    "    print(f'Epoch {epoch+1}: train_loss={train_losses[-1]:.4f}, val_loss={val_losses[-1]:.4f}')"
   ]
  },
  {
   "cell_type": "markdown",
   "metadata": {},
   "source": [
    "### Evaluate Autoencoder"
   ]
  },
  {
   "cell_type": "code",
   "execution_count": null,
   "metadata": {},
   "outputs": [],
   "source": [
    "plt.figure()\n",
    "plt.plot(range(1,num_epochs+1), train_losses, label='Train')\n",
    "plt.plot(range(1,num_epochs+1), val_losses, label='Val')\n",
    "plt.xlabel('Epoch')\n",
    "plt.ylabel('Loss')\n",
    "plt.legend()\n",
    "plt.show()"
   ]
  },
  {
   "cell_type": "code",
   "execution_count": null,
   "metadata": {},
   "outputs": [],
   "source": [
    "model.eval()\n",
    "test_loss=0\n",
    "with torch.no_grad():\n",
    "    for imgs, _ in test_loader:\n",
    "        out = model(imgs.to(device))\n",
    "        test_loss += criterion(out, imgs.to(device)).item()\n",
    "test_loss /= len(test_loader)\n",
    "print('Test reconstruction loss:', test_loss)"
   ]
  },
  {
   "cell_type": "code",
   "execution_count": null,
   "metadata": {},
   "outputs": [],
   "source": [
    "imgs, _ = next(iter(test_loader))\n",
    "with torch.no_grad():\n",
    "    recon = model(imgs.to(device)).cpu()\n",
    "\n",
    "fig, axes = plt.subplots(2,6,figsize=(12,4))\n",
    "for i in range(6):\n",
    "    axes[0,i].imshow(imgs[i].squeeze(), cmap='gray'); axes[0,i].axis('off')\n",
    "    axes[1,i].imshow(recon[i].squeeze(), cmap='gray'); axes[1,i].axis('off')\n",
    "\n",
    "plt.tight_layout()\n",
    "plt.show()"
   ]
  }
 ],
 "metadata": {
  "kernelspec": {
   "display_name": "python3",
   "language": "python",
   "name": "python3"
  },
  "language_info": {
   "name": "python",
   "version": "3.11"
  }
 },
 "nbformat": 4,
 "nbformat_minor": 4
}

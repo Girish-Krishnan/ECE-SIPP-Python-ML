{
  "cells": [
    {
      "cell_type": "markdown",
      "metadata": {},
      "source": "# NumPy Review\nThis notebook contains the same examples as the Python scripts in this folder."
    },
    {
      "cell_type": "markdown",
      "metadata": {},
      "source": "## 00_create_arrays.py"
    },
    {
      "cell_type": "code",
      "metadata": {},
      "source": "import numpy as np\n\n\ndef main():\n    # Create arrays from Python lists\n    a = np.array([1, 2, 3])\n    print(\"1D array:\", a)\n\n    # Create a 2D array of zeros\n    b = np.zeros((2, 3))\n    print(\"\\n2D zeros array:\\n\", b)\n\n    # Create a 3x3 identity matrix\n    c = np.eye(3)\n    print(\"\\nIdentity matrix:\\n\", c)\n\n    # More array creation tricks\n    d = np.arange(12).reshape(3, 4)\n    print(\"\\nReshaped array:\\n\", d)\n\n    e = np.full((2, 2), 7)\n    print(\"\\nConstant array:\\n\", e)\n\n\nif __name__ == \"__main__\":\n    main()\n",
      "outputs": [],
      "execution_count": null
    },
    {
      "cell_type": "markdown",
      "metadata": {},
      "source": "## 01_array_math.py"
    },
    {
      "cell_type": "code",
      "metadata": {},
      "source": "import numpy as np\n\n\ndef main():\n    x = np.array([1, 2, 3])\n    y = np.array([4, 5, 6])\n\n    # Element-wise operations\n    print(\"x + y =\", x + y)\n    print(\"x * y =\", x * y)\n\n    # Dot product\n    print(\"x dot y =\", x @ y)\n\n    # Vectorized functions\n    print(\"sin(x) =\", np.sin(x))\n\n    # Aggregations\n    print(\"mean of y =\", y.mean())\n\n    # Broadcasting with a scalar\n    print(\"y squared =\", y ** 2)\n\n\nif __name__ == \"__main__\":\n    main()\n",
      "outputs": [],
      "execution_count": null
    },
    {
      "cell_type": "markdown",
      "metadata": {},
      "source": "## 02_indexing_slicing.py"
    },
    {
      "cell_type": "code",
      "metadata": {},
      "source": "import numpy as np\n\n\ndef main():\n    a = np.arange(10)\n    print(\"a =\", a)\n\n    # Basic slicing\n    print(\"a[2:5] =\", a[2:5])\n\n    # Negative step slicing\n    print(\"reverse =\", a[::-1])\n\n    # Boolean masking\n    mask = a % 2 == 0\n    print(\"even elements =\", a[mask])\n\n    # Fancy indexing\n    idx = [1, 3, 5]\n    print(\"selected indices =\", a[idx])\n\n    # Adding a new axis\n    col_vec = a[:, np.newaxis]\n    print(\"\\ncolumn vector shape:\", col_vec.shape)\n\n\nif __name__ == \"__main__\":\n    main()\n",
      "outputs": [],
      "execution_count": null
    },
    {
      "cell_type": "markdown",
      "metadata": {},
      "source": "## 03_broadcasting.py"
    },
    {
      "cell_type": "code",
      "metadata": {},
      "source": "import numpy as np\n\n\ndef main():\n    x = np.arange(3)\n    print(\"x =\", x)\n\n    # Add a scalar (broadcast)\n    print(\"x + 5 =\", x + 5)\n\n    # Add a 2D column vector to a row vector\n    a = x.reshape(3, 1)\n    b = np.array([10, 20, 30])\n    print(\"\\na =\\n\", a)\n    print(\"b =\", b)\n    print(\"a + b =\\n\", a + b)\n\n    # Multiply by a row vector\n    m = np.ones((2, 3))\n    print(\"\\nm =\\n\", m)\n    print(\"m * x =\\n\", m * x)\n\n\nif __name__ == \"__main__\":\n    main()\n",
      "outputs": [],
      "execution_count": null
    },
    {
      "cell_type": "markdown",
      "metadata": {},
      "source": "## 04_random_and_statistics.py"
    },
    {
      "cell_type": "code",
      "metadata": {},
      "source": "import numpy as np\nimport matplotlib.pyplot as plt\n\n\ndef main():\n    # Random samples from a normal distribution\n    samples = np.random.randn(1000)\n    print(\"first five samples:\", samples[:5])\n\n    # Compute basic statistics\n    print(\"mean =\", samples.mean())\n    print(\"std =\", samples.std())\n\n    print(\"25th percentile =\", np.percentile(samples, 25))\n\n    # Histogram (counts per bin)\n    hist, bins = np.histogram(samples, bins=5)\n    print(\"\\nhistogram:\")\n    for b_left, b_right, count in zip(bins[:-1], bins[1:], hist):\n        print(f\"{b_left: .2f} to {b_right: .2f}: {count}\")\n\n    # Visualize the distribution\n    plt.hist(samples, bins=30, density=True, alpha=0.7)\n    plt.title(\"Histogram of random samples\")\n    plt.xlabel(\"value\")\n    plt.ylabel(\"density\")\n    plt.show()\n\n\nif __name__ == \"__main__\":\n    main()\n",
      "outputs": [],
      "execution_count": null
    },
    {
      "cell_type": "markdown",
      "metadata": {},
      "source": "## 05_linear_algebra.py"
    },
    {
      "cell_type": "code",
      "metadata": {},
      "source": "import numpy as np\n\n\ndef main():\n    A = np.array([[1, 2], [3, 4]])\n    B = np.array([[5, 6], [7, 8]])\n    print(\"A =\\n\", A)\n    print(\"B =\\n\", B)\n\n    # Matrix multiplication\n    C = A @ B\n    print(\"\\nA @ B =\\n\", C)\n\n    # Determinant and inverse\n    det = np.linalg.det(A)\n    inv = np.linalg.inv(A)\n    print(\"\\ndet(A) =\", det)\n    print(\"inv(A) =\\n\", inv)\n\n    # Eigen decomposition\n    w, v = np.linalg.eig(A)\n    print(\"\\neigenvalues =\", w)\n    print(\"eigenvectors =\\n\", v)\n\n    # Solve a linear system A x = b\n    b_vec = np.array([5, 6])\n    x = np.linalg.solve(A, b_vec)\n    print(\"\\nsolution to A x = b where b=[5,6]:\", x)\n\n\nif __name__ == \"__main__\":\n    main()\n",
      "outputs": [],
      "execution_count": null
    },
    {
      "cell_type": "markdown",
      "metadata": {},
      "source": "## 06_polynomial_fit.py"
    },
    {
      "cell_type": "code",
      "metadata": {},
      "source": "import numpy as np\nimport matplotlib.pyplot as plt\n\n\ndef main():\n    # Create noisy quadratic data\n    rng = np.random.default_rng(0)\n    x = np.linspace(-3, 3, 20)\n    y = 0.5 * x**2 - x + 2 + rng.normal(scale=1.0, size=x.shape)\n\n    # Fit a second degree polynomial\n    coeffs = np.polyfit(x, y, deg=2)\n    print(\"coefficients:\", coeffs)\n\n    # Evaluate the fitted polynomial\n    p = np.poly1d(coeffs)\n    y_fit = p(x)\n\n    # Show first few fitted values\n    print(\"\\nfirst 5 fitted values:\", y_fit[:5])\n\n    # Plot the data and fitted curve\n    plt.scatter(x, y, label=\"data\")\n    plt.plot(x, y_fit, color=\"red\", label=\"fit\")\n    plt.title(\"Polynomial fit\")\n    plt.legend()\n    plt.show()\n\n\nif __name__ == \"__main__\":\n    main()\n",
      "outputs": [],
      "execution_count": null
    },
    {
      "cell_type": "markdown",
      "metadata": {},
      "source": "## 07_saving_loading.py"
    },
    {
      "cell_type": "code",
      "metadata": {},
      "source": "import numpy as np\n\n\ndef main():\n    arr = np.arange(9).reshape(3, 3)\n    print(\"Original array:\\n\", arr)\n\n    np.save('array.npy', arr)\n    print('Array saved to array.npy')\n\n    loaded = np.load('array.npy')\n    print('Loaded array:\\n', loaded)\n\n    # Save multiple arrays in a compressed npz\n    np.savez_compressed('arrays.npz', first=arr, second=arr * 2)\n    data = np.load('arrays.npz')\n    print('\\nArrays in npz:', list(data.keys()))\n\n    np.savetxt('array.txt', arr, fmt='%d')\n    print('Also saved to array.txt')\n\n\nif __name__ == '__main__':\n    main()\n",
      "outputs": [],
      "execution_count": null
    },
    {
      "cell_type": "markdown",
      "metadata": {},
      "source": "## 08_fourier_transform.py"
    },
    {
      "cell_type": "code",
      "metadata": {},
      "source": "import numpy as np\nimport matplotlib.pyplot as plt\n\n\ndef main():\n    t = np.linspace(0, 1, 500)\n    signal = np.sin(2 * np.pi * 5 * t) + 0.5 * np.sin(2 * np.pi * 10 * t)\n    fft = np.fft.rfft(signal)\n    freqs = np.fft.rfftfreq(len(t), d=t[1] - t[0])\n\n    print('First 10 frequency magnitudes:')\n    for f, mag in zip(freqs[:10], np.abs(fft)[:10]):\n        print(f\"{f:5.2f} Hz: {mag:.3f}\")\n\n    # Visualize the signal and its spectrum\n    plt.subplot(2, 1, 1)\n    plt.plot(t, signal)\n    plt.title(\"Time domain signal\")\n    plt.xlabel(\"time [s]\")\n    plt.ylabel(\"amplitude\")\n\n    plt.subplot(2, 1, 2)\n    plt.stem(freqs, np.abs(fft), use_line_collection=True)\n    plt.title(\"Frequency spectrum\")\n    plt.xlabel(\"frequency [Hz]\")\n    plt.tight_layout()\n    plt.show()\n\n\nif __name__ == '__main__':\n    main()\n",
      "outputs": [],
      "execution_count": null
    },
    {
      "cell_type": "markdown",
      "metadata": {},
      "source": "## 09_vectorization_speed.py"
    },
    {
      "cell_type": "code",
      "metadata": {},
      "source": "import numpy as np\nimport time\n\n\ndef main():\n    n = 1000000\n    data = np.arange(n)\n\n    # Sum using Python loop\n    start = time.time()\n    total = 0\n    for value in data:\n        total += value\n    loop_time = time.time() - start\n\n    # Sum using vectorized operation\n    start = time.time()\n    vector_total = np.sum(data)\n    vector_time = time.time() - start\n\n    print(\"loop sum =\", total, \"took\", loop_time, \"seconds\")\n    print(\"vectorized sum =\", vector_total, \"took\", vector_time, \"seconds\")\n\n\nif __name__ == \"__main__\":\n    main()\n",
      "outputs": [],
      "execution_count": null
    }
  ],
  "metadata": {
    "kernelspec": {
      "display_name": "Python 3",
      "language": "python",
      "name": "python3"
    },
    "language_info": {
      "name": "python",
      "pygments_lexer": "ipython3"
    }
  },
  "nbformat": 4,
  "nbformat_minor": 4
}
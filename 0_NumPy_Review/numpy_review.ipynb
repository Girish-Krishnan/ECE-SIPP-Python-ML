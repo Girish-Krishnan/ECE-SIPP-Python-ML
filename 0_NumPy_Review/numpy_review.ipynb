{
 "cells": [
  {
   "cell_type": "markdown",
   "metadata": {},
   "source": [
    "# NumPy Review\n",
    "\n",
    "This notebook walks through core NumPy functionality step by step. Each section mirrors the standalone Python scripts in this folder but is presented in a more tutorial style."
   ]
  },
  {
   "cell_type": "code",
   "execution_count": null,
   "metadata": {},
   "outputs": [],
   "source": [
    "import numpy as np\n",
    "import matplotlib.pyplot as plt\n",
    "import time"
   ]
  },
  {
   "cell_type": "markdown",
   "metadata": {},
   "source": [
    "## 0. Creating Arrays\n",
    "\n",
    "NumPy provides a variety of ways to create arrays. Below we build one dimensional and two dimensional arrays using common functions."
   ]
  },
  {
   "cell_type": "code",
   "execution_count": null,
   "metadata": {},
   "outputs": [],
   "source": [
    "a = np.array([1, 2, 3])\n",
    "print(\"1D array:\", a)\n",
    "\n",
    "b = np.zeros((2, 3))\n",
    "print(\"2D zeros array:\", b)"
   ]
  },
  {
   "cell_type": "code",
   "execution_count": null,
   "metadata": {},
   "outputs": [],
   "source": [
    "c = np.eye(3)\n",
    "print(\"Identity matrix:\\n\", c)\n",
    "\n",
    "d = np.arange(12).reshape(3, 4)\n",
    "print(\"Reshaped array:\\n\", d)\n",
    "\n",
    "e = np.full((2, 2), 7)\n",
    "print(\"Constant array:\\n\", e)"
   ]
  },
  {
   "cell_type": "markdown",
   "metadata": {},
   "source": [
    "## 1. Array Math\n",
    "\n",
    "Arrays support element-wise arithmetic, linear algebra operations and vectorized mathematical functions."
   ]
  },
  {
   "cell_type": "code",
   "execution_count": null,
   "metadata": {},
   "outputs": [],
   "source": [
    "x = np.array([1, 2, 3])\n",
    "y = np.array([4, 5, 6])\n",
    "\n",
    "print(\"x + y =\", x + y)\n",
    "print(\"x * y =\", x * y)\n",
    "print(\"x dot y =\", x @ y)"
   ]
  },
  {
   "cell_type": "code",
   "execution_count": null,
   "metadata": {},
   "outputs": [],
   "source": [
    "print(\"sin(x) =\", np.sin(x))\n",
    "print(\"mean of y =\", y.mean())\n",
    "print(\"y squared =\", y ** 2)"
   ]
  },
  {
   "cell_type": "markdown",
   "metadata": {},
   "source": [
    "## 2. Indexing and Slicing\n",
    "\n",
    "Slicing and fancy indexing let you efficiently access and modify subsets of your data."
   ]
  },
  {
   "cell_type": "code",
   "execution_count": null,
   "metadata": {},
   "outputs": [],
   "source": [
    "a = np.arange(10)\n",
    "print(\"a =\", a)\n",
    "print(\"a[2:5] =\", a[2:5])\n",
    "print(\"reverse =\", a[::-1])"
   ]
  },
  {
   "cell_type": "code",
   "execution_count": null,
   "metadata": {},
   "outputs": [],
   "source": [
    "mask = a % 2 == 0\n",
    "print(\"even elements =\", a[mask])\n",
    "\n",
    "idx = [1, 3, 5]\n",
    "print(\"selected indices =\", a[idx])\n",
    "\n",
    "col_vec = a[:, np.newaxis]\n",
    "print(\"column vector shape:\", col_vec.shape)"
   ]
  },
  {
   "cell_type": "markdown",
   "metadata": {},
   "source": [
    "## 3. Broadcasting\n",
    "\n",
    "Broadcasting automatically expands array shapes so operations work without explicit loops."
   ]
  },
  {
   "cell_type": "code",
   "execution_count": null,
   "metadata": {},
   "outputs": [],
   "source": [
    "x = np.arange(3)\n",
    "print(\"x =\", x)\n",
    "print(\"x + 5 =\", x + 5)"
   ]
  },
  {
   "cell_type": "code",
   "execution_count": null,
   "metadata": {},
   "outputs": [],
   "source": [
    "a = x.reshape(3, 1)\n",
    "b = np.array([10, 20, 30])\n",
    "print(\"a =\\n\", a)\n",
    "print(\"b =\\n\", b)\n",
    "print(\"a + b =\\n\", a + b)"
   ]
  },
  {
   "cell_type": "code",
   "execution_count": null,
   "metadata": {},
   "outputs": [],
   "source": [
    "m = np.ones((2, 3))\n",
    "print(\"m =\\n\", m)\n",
    "print(\"m * x =\\n\", m * x)"
   ]
  },
  {
   "cell_type": "markdown",
   "metadata": {},
   "source": [
    "## 4. Random numbers & statistics\n",
    "\n",
    "NumPy's random module and statistical helpers are useful for simulations and data analysis."
   ]
  },
  {
   "cell_type": "code",
   "execution_count": null,
   "metadata": {},
   "outputs": [],
   "source": [
    "samples = np.random.randn(1000)\n",
    "print(\"first five samples:\", samples[:5])\n",
    "print(\"mean =\", samples.mean())\n",
    "print(\"std =\", samples.std())\n",
    "print(\"25th percentile =\", np.percentile(samples, 25))"
   ]
  },
  {
   "cell_type": "code",
   "execution_count": null,
   "metadata": {},
   "outputs": [],
   "source": [
    "hist, bins = np.histogram(samples, bins=5)\n",
    "print(\"histogram:\")\n",
    "for b_left, b_right, count in zip(bins[:-1], bins[1:], hist):\n",
    "    print(f\"{b_left: .2f} to {b_right: .2f}: {count}\")"
   ]
  },
  {
   "cell_type": "code",
   "execution_count": null,
   "metadata": {},
   "outputs": [],
   "source": [
    "plt.hist(samples, bins=30, density=True, alpha=0.7)\n",
    "plt.title(\"Histogram of random samples\")\n",
    "plt.xlabel(\"value\")\n",
    "plt.ylabel(\"density\")\n",
    "plt.show()"
   ]
  },
  {
   "cell_type": "markdown",
   "metadata": {},
   "source": [
    "## 5. Linear algebra\n",
    "\n",
    "The `numpy.linalg` module contains standard matrix operations such as matrix multiplication, inverses and eigen decompositions."
   ]
  },
  {
   "cell_type": "code",
   "execution_count": null,
   "metadata": {},
   "outputs": [],
   "source": [
    "A = np.array([[1, 2], [3, 4]])\n",
    "B = np.array([[5, 6], [7, 8]])\n",
    "print(\"A =\\n\", A)\n",
    "print(\"B =\\n\", B)\n",
    "\n",
    "C = A @ B\n",
    "print(\"C =\\n\", C)"
   ]
  },
  {
   "cell_type": "code",
   "execution_count": null,
   "metadata": {},
   "outputs": [],
   "source": [
    "det = np.linalg.det(A)\n",
    "inv = np.linalg.inv(A)\n",
    "print(\"det(A) =\", det)\n",
    "print(\"inv(A) =\\n\", inv)"
   ]
  },
  {
   "cell_type": "code",
   "execution_count": null,
   "metadata": {},
   "outputs": [],
   "source": [
    "w, v = np.linalg.eig(A)\n",
    "print(\"eigenvalues =\\n\", w)\n",
    "print(\"eigenvectors =\\n\", v)"
   ]
  },
  {
   "cell_type": "code",
   "execution_count": null,
   "metadata": {},
   "outputs": [],
   "source": [
    "b_vec = np.array([5, 6])\n",
    "x = np.linalg.solve(A, b_vec)\n",
    "print(\"solution to A x = b where b=[5,6]:\", x)"
   ]
  },
  {
   "cell_type": "markdown",
   "metadata": {},
   "source": [
    "## 6. Polynomial fitting\n",
    "\n",
    "We can fit noisy data using `numpy.polyfit` and visualize the fitted polynomial."
   ]
  },
  {
   "cell_type": "code",
   "execution_count": null,
   "metadata": {},
   "outputs": [],
   "source": [
    "rng = np.random.default_rng(0)\n",
    "x = np.linspace(-3, 3, 20)\n",
    "y = 0.5 * x**2 - x + 2 + rng.normal(scale=1.0, size=x.shape)"
   ]
  },
  {
   "cell_type": "code",
   "execution_count": null,
   "metadata": {},
   "outputs": [],
   "source": [
    "coeffs = np.polyfit(x, y, deg=2)\n",
    "print(\"coefficients:\", coeffs)\n",
    "\n",
    "p = np.poly1d(coeffs)\n",
    "y_fit = p(x)\n",
    "print(\"first 5 fitted values:\", y_fit[:5])"
   ]
  },
  {
   "cell_type": "code",
   "execution_count": null,
   "metadata": {},
   "outputs": [],
   "source": [
    "plt.scatter(x, y, label=\"data\")\n",
    "plt.plot(x, y_fit, color=\"red\", label=\"fit\")\n",
    "plt.title(\"Polynomial fit\")\n",
    "plt.legend()\n",
    "plt.show()"
   ]
  },
  {
   "cell_type": "markdown",
   "metadata": {},
   "source": [
    "## 7. Saving and loading\n",
    "\n",
    "NumPy can easily persist arrays to disk using `npy` or text formats."
   ]
  },
  {
   "cell_type": "code",
   "execution_count": null,
   "metadata": {},
   "outputs": [],
   "source": [
    "arr = np.arange(9).reshape(3, 3)\n",
    "print(\"Original array:\\n\", arr)\n",
    "\n",
    "np.save('array.npy', arr)\n",
    "print('Array saved to array.npy')\n",
    "\n",
    "loaded = np.load('array.npy')\n",
    "print('Loaded array:\\n', loaded)"
   ]
  },
  {
   "cell_type": "code",
   "execution_count": null,
   "metadata": {},
   "outputs": [],
   "source": [
    "np.savez_compressed('arrays.npz', first=arr, second=arr * 2)\n",
    "data = np.load('arrays.npz')\n",
    "print(data)\n",
    "print('Arrays in npz:', list(data.keys()))\n",
    "\n",
    "np.savetxt('array.txt', arr, fmt='%d')\n",
    "print('Also saved to array.txt')"
   ]
  },
  {
   "cell_type": "markdown",
   "metadata": {},
   "source": [
    "## 8. Fourier transforms\n",
    "\n",
    "The Fourier transform reveals the frequency content of a signal."
   ]
  },
  {
   "cell_type": "code",
   "execution_count": null,
   "metadata": {},
   "outputs": [],
   "source": [
    "t = np.linspace(0, 1, 500)\n",
    "signal = np.sin(2 * np.pi * 5 * t) + 0.5 * np.sin(2 * np.pi * 10 * t)\n",
    "fft = np.fft.rfft(signal)\n",
    "freqs = np.fft.rfftfreq(len(t), d=t[1] - t[0])\n",
    "\n",
    "print('First 10 frequency magnitudes:')\n",
    "for f, mag in zip(freqs[:10], np.abs(fft)[:10]):\n",
    "    print(f\"{f:5.2f} Hz: {mag:.3f}\")"
   ]
  },
  {
   "cell_type": "code",
   "execution_count": null,
   "metadata": {},
   "outputs": [],
   "source": [
    "plt.subplot(2, 1, 1)\n",
    "plt.plot(t, signal)\n",
    "plt.title(\"Time domain signal\")\n",
    "plt.xlabel(\"time [s]\")\n",
    "plt.ylabel(\"amplitude\")\n",
    "\n",
    "plt.subplot(2, 1, 2)\n",
    "plt.stem(freqs, np.abs(fft))\n",
    "plt.title(\"Frequency spectrum\")\n",
    "plt.xlabel(\"frequency [Hz]\")\n",
    "plt.tight_layout()\n",
    "plt.show()"
   ]
  },
  {
   "cell_type": "markdown",
   "metadata": {},
   "source": [
    "## 9. Vectorization speed comparison\n",
    "\n",
    "Vectorized operations run much faster than explicit Python loops."
   ]
  },
  {
   "cell_type": "code",
   "execution_count": null,
   "metadata": {},
   "outputs": [],
   "source": [
    "n = 100_000_000\n",
    "data = np.arange(n)\n",
    "\n",
    "start = time.time()\n",
    "total = 0\n",
    "for value in data:\n",
    "    total += value\n",
    "loop_time = time.time() - start"
   ]
  },
  {
   "cell_type": "code",
   "execution_count": null,
   "metadata": {},
   "outputs": [],
   "source": [
    "start = time.time()\n",
    "vector_total = np.sum(data)\n",
    "vector_time = time.time() - start\n",
    "\n",
    "print(\"loop sum =\", total, \"took\", loop_time, \"seconds\")\n",
    "print(\"vectorized sum =\", vector_total, \"took\", vector_time, \"seconds\")"
   ]
  },
  {
   "cell_type": "markdown",
   "metadata": {},
   "source": [
    "This concludes the brief tour through fundamental NumPy features. Feel free to modify the code cells and explore further!"
   ]
  }
 ],
 "metadata": {
  "kernelspec": {
   "display_name": "cogs",
   "language": "python",
   "name": "python3"
  },
  "language_info": {
   "codemirror_mode": {
    "name": "ipython",
    "version": 3
   },
   "file_extension": ".py",
   "mimetype": "text/x-python",
   "name": "python",
   "nbconvert_exporter": "python",
   "pygments_lexer": "ipython3",
   "version": "3.11.5"
  }
 },
 "nbformat": 4,
 "nbformat_minor": 4
}

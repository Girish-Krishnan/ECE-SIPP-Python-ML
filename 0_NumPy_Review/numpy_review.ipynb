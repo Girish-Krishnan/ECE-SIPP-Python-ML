{
 "cells": [
  {
   "cell_type": "markdown",
   "metadata": {},
   "source": "# NumPy Review\n\nThis notebook walks through core NumPy functionality step by step. Each section mirrors the standalone Python scripts in this folder but is presented in a more tutorial style."
  },
  {
   "cell_type": "code",
   "metadata": {},
   "execution_count": null,
   "outputs": [],
   "source": "import numpy as np\nimport matplotlib.pyplot as plt\nimport time"
  },
  {
   "cell_type": "markdown",
   "metadata": {},
   "source": "## 0. Creating Arrays\n\nNumPy provides a variety of ways to create arrays. Below we build one dimensional and two dimensional arrays using common functions."
  },
  {
   "cell_type": "code",
   "metadata": {},
   "execution_count": null,
   "outputs": [],
   "source": "a = np.array([1, 2, 3])\nprint(\"1D array:\", a)\n\nb = np.zeros((2, 3))\nprint(\"\n2D zeros array:\n\", b)"
  },
  {
   "cell_type": "code",
   "metadata": {},
   "execution_count": null,
   "outputs": [],
   "source": "c = np.eye(3)\nprint(\"\nIdentity matrix:\n\", c)\n\nd = np.arange(12).reshape(3, 4)\nprint(\"\nReshaped array:\n\", d)\n\ne = np.full((2, 2), 7)\nprint(\"\nConstant array:\n\", e)"
  },
  {
   "cell_type": "markdown",
   "metadata": {},
   "source": "## 1. Array Math\n\nArrays support element-wise arithmetic, linear algebra operations and vectorized mathematical functions."
  },
  {
   "cell_type": "code",
   "metadata": {},
   "execution_count": null,
   "outputs": [],
   "source": "x = np.array([1, 2, 3])\ny = np.array([4, 5, 6])\n\nprint(\"x + y =\", x + y)\nprint(\"x * y =\", x * y)\nprint(\"x dot y =\", x @ y)"
  },
  {
   "cell_type": "code",
   "metadata": {},
   "execution_count": null,
   "outputs": [],
   "source": "print(\"sin(x) =\", np.sin(x))\nprint(\"mean of y =\", y.mean())\nprint(\"y squared =\", y ** 2)"
  },
  {
   "cell_type": "markdown",
   "metadata": {},
   "source": "## 2. Indexing and Slicing\n\nSlicing and fancy indexing let you efficiently access and modify subsets of your data."
  },
  {
   "cell_type": "code",
   "metadata": {},
   "execution_count": null,
   "outputs": [],
   "source": "a = np.arange(10)\nprint(\"a =\", a)\nprint(\"a[2:5] =\", a[2:5])\nprint(\"reverse =\", a[::-1])"
  },
  {
   "cell_type": "code",
   "metadata": {},
   "execution_count": null,
   "outputs": [],
   "source": "mask = a % 2 == 0\nprint(\"even elements =\", a[mask])\n\nidx = [1, 3, 5]\nprint(\"selected indices =\", a[idx])\n\ncol_vec = a[:, np.newaxis]\nprint(\"\ncolumn vector shape:\", col_vec.shape)"
  },
  {
   "cell_type": "markdown",
   "metadata": {},
   "source": "## 3. Broadcasting\n\nBroadcasting automatically expands array shapes so operations work without explicit loops."
  },
  {
   "cell_type": "code",
   "metadata": {},
   "execution_count": null,
   "outputs": [],
   "source": "x = np.arange(3)\nprint(\"x =\", x)\nprint(\"x + 5 =\", x + 5)"
  },
  {
   "cell_type": "code",
   "metadata": {},
   "execution_count": null,
   "outputs": [],
   "source": "a = x.reshape(3, 1)\nb = np.array([10, 20, 30])\nprint(\"\na =\n\", a)\nprint(\"b =\", b)\nprint(\"a + b =\n\", a + b)"
  },
  {
   "cell_type": "code",
   "metadata": {},
   "execution_count": null,
   "outputs": [],
   "source": "m = np.ones((2, 3))\nprint(\"\nm =\n\", m)\nprint(\"m * x =\n\", m * x)"
  },
  {
   "cell_type": "markdown",
   "metadata": {},
   "source": "## 4. Random numbers & statistics\n\nNumPy's random module and statistical helpers are useful for simulations and data analysis."
  },
  {
   "cell_type": "code",
   "metadata": {},
   "execution_count": null,
   "outputs": [],
   "source": "samples = np.random.randn(1000)\nprint(\"first five samples:\", samples[:5])\nprint(\"mean =\", samples.mean())\nprint(\"std =\", samples.std())\nprint(\"25th percentile =\", np.percentile(samples, 25))"
  },
  {
   "cell_type": "code",
   "metadata": {},
   "execution_count": null,
   "outputs": [],
   "source": "hist, bins = np.histogram(samples, bins=5)\nprint(\"\nhistogram:\")\nfor b_left, b_right, count in zip(bins[:-1], bins[1:], hist):\n    print(f\"{b_left: .2f} to {b_right: .2f}: {count}\")"
  },
  {
   "cell_type": "code",
   "metadata": {},
   "execution_count": null,
   "outputs": [],
   "source": "plt.hist(samples, bins=30, density=True, alpha=0.7)\nplt.title(\"Histogram of random samples\")\nplt.xlabel(\"value\")\nplt.ylabel(\"density\")\nplt.show()"
  },
  {
   "cell_type": "markdown",
   "metadata": {},
   "source": "## 5. Linear algebra\n\nThe `numpy.linalg` module contains standard matrix operations such as matrix multiplication, inverses and eigen decompositions."
  },
  {
   "cell_type": "code",
   "metadata": {},
   "execution_count": null,
   "outputs": [],
   "source": "A = np.array([[1, 2], [3, 4]])\nB = np.array([[5, 6], [7, 8]])\nprint(\"A =\n\", A)\nprint(\"B =\n\", B)\n\nC = A @ B\nprint(\"\nA @ B =\n\", C)"
  },
  {
   "cell_type": "code",
   "metadata": {},
   "execution_count": null,
   "outputs": [],
   "source": "det = np.linalg.det(A)\ninv = np.linalg.inv(A)\nprint(\"\ndet(A) =\", det)\nprint(\"inv(A) =\n\", inv)"
  },
  {
   "cell_type": "code",
   "metadata": {},
   "execution_count": null,
   "outputs": [],
   "source": "w, v = np.linalg.eig(A)\nprint(\"\neigenvalues =\", w)\nprint(\"eigenvectors =\n\", v)"
  },
  {
   "cell_type": "code",
   "metadata": {},
   "execution_count": null,
   "outputs": [],
   "source": "b_vec = np.array([5, 6])\nx = np.linalg.solve(A, b_vec)\nprint(\"\nsolution to A x = b where b=[5,6]:\", x)"
  },
  {
   "cell_type": "markdown",
   "metadata": {},
   "source": "## 6. Polynomial fitting\n\nWe can fit noisy data using `numpy.polyfit` and visualize the fitted polynomial."
  },
  {
   "cell_type": "code",
   "metadata": {},
   "execution_count": null,
   "outputs": [],
   "source": "rng = np.random.default_rng(0)\nx = np.linspace(-3, 3, 20)\ny = 0.5 * x**2 - x + 2 + rng.normal(scale=1.0, size=x.shape)"
  },
  {
   "cell_type": "code",
   "metadata": {},
   "execution_count": null,
   "outputs": [],
   "source": "coeffs = np.polyfit(x, y, deg=2)\nprint(\"coefficients:\", coeffs)\n\np = np.poly1d(coeffs)\ny_fit = p(x)\nprint(\"\nfirst 5 fitted values:\", y_fit[:5])"
  },
  {
   "cell_type": "code",
   "metadata": {},
   "execution_count": null,
   "outputs": [],
   "source": "plt.scatter(x, y, label=\"data\")\nplt.plot(x, y_fit, color=\"red\", label=\"fit\")\nplt.title(\"Polynomial fit\")\nplt.legend()\nplt.show()"
  },
  {
   "cell_type": "markdown",
   "metadata": {},
   "source": "## 7. Saving and loading\n\nNumPy can easily persist arrays to disk using `npy` or text formats."
  },
  {
   "cell_type": "code",
   "metadata": {},
   "execution_count": null,
   "outputs": [],
   "source": "arr = np.arange(9).reshape(3, 3)\nprint(\"Original array:\n\", arr)\n\nnp.save('array.npy', arr)\nprint('Array saved to array.npy')\n\nloaded = np.load('array.npy')\nprint('Loaded array:\n', loaded)"
  },
  {
   "cell_type": "code",
   "metadata": {},
   "execution_count": null,
   "outputs": [],
   "source": "np.savez_compressed('arrays.npz', first=arr, second=arr * 2)\ndata = np.load('arrays.npz')\nprint('\nArrays in npz:', list(data.keys()))\n\nnp.savetxt('array.txt', arr, fmt='%d')\nprint('Also saved to array.txt')"
  },
  {
   "cell_type": "markdown",
   "metadata": {},
   "source": "## 8. Fourier transforms\n\nThe Fourier transform reveals the frequency content of a signal."
  },
  {
   "cell_type": "code",
   "metadata": {},
   "execution_count": null,
   "outputs": [],
   "source": "t = np.linspace(0, 1, 500)\nsignal = np.sin(2 * np.pi * 5 * t) + 0.5 * np.sin(2 * np.pi * 10 * t)\nfft = np.fft.rfft(signal)\nfreqs = np.fft.rfftfreq(len(t), d=t[1] - t[0])\n\nprint('First 10 frequency magnitudes:')\nfor f, mag in zip(freqs[:10], np.abs(fft)[:10]):\n    print(f\"{f:5.2f} Hz: {mag:.3f}\")"
  },
  {
   "cell_type": "code",
   "metadata": {},
   "execution_count": null,
   "outputs": [],
   "source": "plt.subplot(2, 1, 1)\nplt.plot(t, signal)\nplt.title(\"Time domain signal\")\nplt.xlabel(\"time [s]\")\nplt.ylabel(\"amplitude\")\n\nplt.subplot(2, 1, 2)\nplt.stem(freqs, np.abs(fft), use_line_collection=True)\nplt.title(\"Frequency spectrum\")\nplt.xlabel(\"frequency [Hz]\")\nplt.tight_layout()\nplt.show()"
  },
  {
   "cell_type": "markdown",
   "metadata": {},
   "source": "## 9. Vectorization speed comparison\n\nVectorized operations run much faster than explicit Python loops."
  },
  {
   "cell_type": "code",
   "metadata": {},
   "execution_count": null,
   "outputs": [],
   "source": "n = 1_000_000\ndata = np.arange(n)\n\nstart = time.time()\ntotal = 0\nfor value in data:\n    total += value\nloop_time = time.time() - start"
  },
  {
   "cell_type": "code",
   "metadata": {},
   "execution_count": null,
   "outputs": [],
   "source": "start = time.time()\nvector_total = np.sum(data)\nvector_time = time.time() - start\n\nprint(\"loop sum =\", total, \"took\", loop_time, \"seconds\")\nprint(\"vectorized sum =\", vector_total, \"took\", vector_time, \"seconds\")"
  },
  {
   "cell_type": "markdown",
   "metadata": {},
   "source": "This concludes the brief tour through fundamental NumPy features. Feel free to modify the code cells and explore further!"
  }
 ],
 "metadata": {
  "kernelspec": {
   "display_name": "Python 3",
   "language": "python",
   "name": "python3"
  },
  "language_info": {
   "name": "python",
   "pygments_lexer": "ipython3"
  }
 },
 "nbformat": 4,
 "nbformat_minor": 4
}
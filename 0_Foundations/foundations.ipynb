{
 "cells": [
  {
   "cell_type": "markdown",
   "id": "758ef743",
   "metadata": {},
   "source": [
    "# Foundations: pandas data analysis and visualization\n"
   ]
  },
  {
   "cell_type": "code",
   "execution_count": null,
   "id": "c6fcb3e2",
   "metadata": {},
   "outputs": [],
   "source": [
    "from sklearn import datasets\n",
    "import matplotlib.pyplot as plt\n",
    "import pandas as pd\n",
    "import seaborn as sns"
   ]
  },
  {
   "cell_type": "markdown",
   "id": "d82a9713",
   "metadata": {},
   "source": [
    "This cell imports `scikit-learn` for datasets, `matplotlib` and `seaborn` for plotting, and `pandas` for handling tabular data."
   ]
  },
  {
   "cell_type": "markdown",
   "id": "684c7f8f",
   "metadata": {},
   "source": [
    "## pandas basics\n",
    "\n",
    "Documentation: [pandas documentation](https://pandas.pydata.org/docs/)"
   ]
  },
  {
   "cell_type": "code",
   "execution_count": null,
   "id": "b41ef42f",
   "metadata": {},
   "outputs": [],
   "source": [
    "# Create a DataFrame from a Python dictionary\n",
    "data = {\n",
    "    \"name\": [\"Alice\", \"Bob\", \"Charlie\", \"David\"],\n",
    "    \"age\": [25, 30, 35, 40],\n",
    "    \"score\": [85.5, 92.0, 88.0, 95.5],\n",
    "}\n",
    "df = pd.DataFrame(data)\n",
    "df"
   ]
  },
  {
   "cell_type": "code",
   "execution_count": null,
   "id": "0d6323aa",
   "metadata": {},
   "outputs": [],
   "source": [
    "# Basic selection and summary statistics\n",
    "print(\"Names column:\\n\", df[\"name\"])"
   ]
  },
  {
   "cell_type": "code",
   "execution_count": null,
   "id": "451e546c",
   "metadata": {},
   "outputs": [],
   "source": [
    "print(\"Average age:\", df[\"age\"].mean())"
   ]
  },
  {
   "cell_type": "code",
   "execution_count": null,
   "id": "63c42055",
   "metadata": {},
   "outputs": [],
   "source": [
    "print(\"Describe scores:\\n\", df[\"score\"].describe())"
   ]
  },
  {
   "cell_type": "code",
   "execution_count": null,
   "id": "b8a5c41a",
   "metadata": {},
   "outputs": [],
   "source": [
    "# Simple visualization of the scores\n",
    "df.plot.bar(x=\"name\", y=\"score\", title=\"Participant scores\", legend=False)\n",
    "plt.xlabel(\"name\")\n",
    "plt.ylabel(\"score\")\n",
    "plt.tight_layout()\n",
    "plt.show()"
   ]
  },
  {
   "cell_type": "markdown",
   "id": "a26e5d7f",
   "metadata": {},
   "source": [
    "## Exploratory data analysis"
   ]
  },
  {
   "cell_type": "code",
   "execution_count": null,
   "id": "7d69bad1",
   "metadata": {},
   "outputs": [],
   "source": [
    "# Load the Iris dataset from scikit-learn and put it in a DataFrame\n",
    "iris = datasets.load_iris()\n",
    "df = pd.DataFrame(iris.data, columns=iris.feature_names)\n",
    "df.head()"
   ]
  },
  {
   "cell_type": "code",
   "execution_count": null,
   "id": "7b9d5553",
   "metadata": {},
   "outputs": [],
   "source": [
    "df[\"target\"] = iris.target\n",
    "df.head()"
   ]
  },
  {
   "cell_type": "code",
   "execution_count": null,
   "id": "e4cb85c9",
   "metadata": {},
   "outputs": [],
   "source": [
    "# Summary statistics\n",
    "print(\"Summary statistics:\\n\", df.describe(), \"\\n\")"
   ]
  },
  {
   "cell_type": "code",
   "execution_count": null,
   "id": "8ad35c7b",
   "metadata": {},
   "outputs": [],
   "source": [
    "# Scatter plot of two features\n",
    "df.plot.scatter(x=\"sepal length (cm)\", y=\"petal length (cm)\", c=\"target\", cmap=\"viridis\")\n",
    "plt.title(\"Iris feature scatter plot\")\n",
    "plt.show()"
   ]
  },
  {
   "cell_type": "code",
   "execution_count": null,
   "id": "fc5ab4cc",
   "metadata": {},
   "outputs": [],
   "source": [
    "# Histogram of petal widths\n",
    "df[\"petal width (cm)\"].hist(bins=20)\n",
    "plt.title(\"Petal width distribution\")\n",
    "plt.xlabel(\"width (cm)\")\n",
    "plt.ylabel(\"count\")\n",
    "plt.show()"
   ]
  },
  {
   "cell_type": "code",
   "execution_count": null,
   "id": "25b748a0",
   "metadata": {},
   "outputs": [],
   "source": [
    "# Correlation heatmap\n",
    "corr = df.drop(columns=['target']).corr()\n",
    "sns.heatmap(corr, annot=True, cmap='coolwarm')\n",
    "plt.title('Feature correlation heatmap')\n",
    "plt.tight_layout()\n",
    "plt.show()"
   ]
  },
  {
   "cell_type": "markdown",
   "id": "984df2cd",
   "metadata": {},
   "source": [
    "## Digits dataset exploration"
   ]
  },
  {
   "cell_type": "code",
   "execution_count": null,
   "id": "2aac67c5",
   "metadata": {},
   "outputs": [],
   "source": [
    "from sklearn.datasets import load_digits\n",
    "digits = load_digits()\n",
    "df_digits = pd.DataFrame(digits.data)\n",
    "df_digits[\"target\"] = digits.target\n",
    "df_digits.head()"
   ]
  },
  {
   "cell_type": "code",
   "execution_count": null,
   "id": "3e70e463",
   "metadata": {},
   "outputs": [],
   "source": [
    "df_digits[\"target\"].value_counts()"
   ]
  },
  {
   "cell_type": "code",
   "execution_count": null,
   "id": "384978a5",
   "metadata": {},
   "outputs": [],
   "source": [
    "df_digits[\"target\"].value_counts().plot.bar()\n",
    "plt.title(\"Digit class distribution\")\n",
    "plt.xlabel(\"digit\")\n",
    "plt.ylabel(\"count\")\n",
    "plt.show()"
   ]
  },
  {
   "cell_type": "code",
   "execution_count": null,
   "id": "a3be7ef9",
   "metadata": {},
   "outputs": [],
   "source": [
    "# Show a few example images from the scikit-learn dataset\n",
    "fig, axes = plt.subplots(2, 5, figsize=(2, 3))\n",
    "for ax, image, label in zip(axes.ravel(), digits.images, digits.target):\n",
    "    ax.imshow(image, cmap='gray_r')\n",
    "    ax.set_title(label)\n",
    "    ax.axis('off')\n",
    "plt.suptitle('Sample digits')\n",
    "plt.tight_layout()\n",
    "plt.show()"
   ]
  },
  {
   "cell_type": "markdown",
   "id": "f4e87c5e",
   "metadata": {},
   "source": [
    "## Handling missing data"
   ]
  },
  {
   "cell_type": "code",
   "execution_count": null,
   "id": "16737584",
   "metadata": {},
   "outputs": [],
   "source": [
    "import numpy as np\n",
    "df_missing = pd.DataFrame({\"A\": [1, 2, np.nan, 4], \"B\": [5, np.nan, np.nan, 8]})\n",
    "df_missing"
   ]
  },
  {
   "cell_type": "code",
   "execution_count": null,
   "id": "eed9ca1c",
   "metadata": {},
   "outputs": [],
   "source": [
    "print(\"Fill NA with column means:\")\n",
    "df_missing.fillna(df_missing.mean(numeric_only=True))"
   ]
  },
  {
   "cell_type": "code",
   "execution_count": null,
   "id": "b55ec894",
   "metadata": {},
   "outputs": [],
   "source": [
    "print(\"Drop rows with NA:\")\n",
    "df_missing.dropna()"
   ]
  }
 ],
 "metadata": {
  "kernelspec": {
   "display_name": "cogs",
   "language": "python",
   "name": "python3"
  },
  "language_info": {
   "codemirror_mode": {
    "name": "ipython",
    "version": 3
   },
   "file_extension": ".py",
   "mimetype": "text/x-python",
   "name": "python",
   "nbconvert_exporter": "python",
   "pygments_lexer": "ipython3",
   "version": "3.11.5"
  }
 },
 "nbformat": 4,
 "nbformat_minor": 5
}

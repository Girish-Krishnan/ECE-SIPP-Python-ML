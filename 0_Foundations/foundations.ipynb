{
 "cells": [
  {
   "cell_type": "markdown",
   "metadata": {},
   "source": [
    "# Foundations: pandas data analysis and visualization\n"
   ]
  },
  {
   "cell_type": "code",
   "execution_count": null,
   "metadata": {},
   "outputs": [],
   "source": [
    "from sklearn import datasets\n",
    "import matplotlib.pyplot as plt\n",
    "import pandas as pd\n",
    "import seaborn as sns\n"
   ]
  },
  {
   "cell_type": "markdown",
   "metadata": {},
   "source": [
    "## pandas basics"
   ]
  },
  {
   "cell_type": "code",
   "execution_count": null,
   "metadata": {},
   "outputs": [],
   "source": [
    "# Create a DataFrame from a Python dictionary\n",
    "data = {\n",
    "    \"name\": [\"Alice\", \"Bob\", \"Charlie\", \"David\"],\n",
    "    \"age\": [25, 30, 35, 40],\n",
    "    \"score\": [85.5, 92.0, 88.0, 95.5],\n",
    "}\n",
    "df = pd.DataFrame(data)\n",
    "print(\"DataFrame:\\n\", df, \"\\n\")\n",
    "\n",
    "# Basic selection and summary statistics\n",
    "print(\"Names column:\\n\", df[\"name\"])\n",
    "print(\"Average age:\", df[\"age\"].mean())\n",
    "print(\"Describe scores:\\n\", df[\"score\"].describe())\n",
    "\n",
    "# Simple visualization of the scores\n",
    "df.plot.bar(x=\"name\", y=\"score\", title=\"Participant scores\", legend=False)\n",
    "plt.xlabel(\"name\")\n",
    "plt.ylabel(\"score\")\n",
    "plt.tight_layout()\n",
    "plt.show()"
   ]
  },
  {
   "cell_type": "markdown",
   "metadata": {},
   "source": [
    "## Exploratory data analysis"
   ]
  },
  {
   "cell_type": "code",
   "execution_count": null,
   "metadata": {},
   "outputs": [],
   "source": [
    "# Load the Iris dataset from scikit-learn and put it in a DataFrame\n",
    "iris = datasets.load_iris()\n",
    "df = pd.DataFrame(iris.data, columns=iris.feature_names)\n",
    "df[\"target\"] = iris.target\n",
    "\n",
    "# Display the first few rows\n",
    "print(\"First five rows:\\n\", df.head(), \"\\n\")\n",
    "\n",
    "# Summary statistics\n",
    "print(\"Summary statistics:\\n\", df.describe(), \"\\n\")\n",
    "\n",
    "# Scatter plot of two features\n",
    "df.plot.scatter(x=\"sepal length (cm)\", y=\"petal length (cm)\", c=\"target\", cmap=\"viridis\")\n",
    "plt.title(\"Iris feature scatter plot\")\n",
    "plt.show()\n",
    "\n",
    "# Histogram of petal widths\n",
    "df[\"petal width (cm)\"].hist(bins=20)\n",
    "plt.title(\"Petal width distribution\")\n",
    "plt.xlabel(\"width (cm)\")\n",
    "plt.ylabel(\"count\")\n",
    "plt.show()"
   ]
  },
  {
   "cell_type": "markdown",
   "metadata": {},
   "source": [
    "## Digits dataset exploration"
   ]
  },
  {
   "cell_type": "code",
   "metadata": {},
   "execution_count": null,
   "outputs": [],
   "source": [
    "from sklearn.datasets import load_digits\n",
    "digits = load_digits()\n",
    "df_digits = pd.DataFrame(digits.data)\n",
    "df_digits[\"target\"] = digits.target\n",
    "print(df_digits.head(), \"\n\")\n",
    "df_digits[\"target\"].value_counts().plot.bar()\n",
    "plt.title(\"Digit class distribution\")\n",
    "plt.xlabel(\"digit\")\n",
    "plt.ylabel(\"count\")\n",
    "plt.show()"
   ]
  },
  {
   "cell_type": "markdown",
   "metadata": {},
   "source": [
    "## Handling missing data"
   ]
  },
  {
   "cell_type": "code",
   "metadata": {},
   "execution_count": null,
   "outputs": [],
   "source": [
    "import numpy as np\n",
    "df_missing = pd.DataFrame({\"A\": [1, 2, np.nan, 4], \"B\": [5, np.nan, np.nan, 8]})\n",
    "print(\"Original:\n\", df_missing, \"\n\")\n",
    "print(\"Fill NA with column means:\n\", df_missing.fillna(df_missing.mean(numeric_only=True)))\n",
    "print(\"Drop rows with NA:\n\", df_missing.dropna())"
   ]
  }
 ],
 "metadata": {
  "kernelspec": {
   "display_name": "cogs",
   "language": "python",
   "name": "python3"
  },
  "language_info": {
   "name": "python",
   "version": "3.11.5"
  }
 },
 "nbformat": 4,
 "nbformat_minor": 5
}
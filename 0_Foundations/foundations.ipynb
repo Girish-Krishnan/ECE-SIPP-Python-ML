{
 "cells": [
  {
   "cell_type": "markdown",
   "metadata": {},
   "source": [
    "# Foundations: pandas data analysis and visualization\n"
   ]
  },
  {
   "cell_type": "code",
   "execution_count": null,
   "metadata": {},
   "outputs": [],
   "source": [
    "from sklearn import datasets\n",
    "import matplotlib.pyplot as plt\n",
    "import pandas as pd\n",
    "import seaborn as sns\n"
   ]
  },
  {
   "cell_type": "markdown",
   "metadata": {},
   "source": [
    "## pandas basics"
   ]
  },
  {
   "cell_type": "code",
   "execution_count": null,
   "metadata": {},
   "outputs": [],
   "source": [
    "# Create a DataFrame from a Python dictionary\n",
    "data = {\n",
    "    \"name\": [\"Alice\", \"Bob\", \"Charlie\", \"David\"],\n",
    "    \"age\": [25, 30, 35, 40],\n",
    "    \"score\": [85.5, 92.0, 88.0, 95.5],\n",
    "}\n",
    "df = pd.DataFrame(data)\n",
    "print(\"DataFrame:\\n\", df, \"\\n\")\n",
    "\n",
    "# Basic selection and summary statistics\n",
    "print(\"Names column:\\n\", df[\"name\"])\n",
    "print(\"Average age:\", df[\"age\"].mean())\n",
    "print(\"Describe scores:\\n\", df[\"score\"].describe())\n",
    "\n",
    "# Simple visualization of the scores\n",
    "df.plot.bar(x=\"name\", y=\"score\", title=\"Participant scores\", legend=False)\n",
    "plt.xlabel(\"name\")\n",
    "plt.ylabel(\"score\")\n",
    "plt.tight_layout()\n",
    "plt.show()"
   ]
  },
  {
   "cell_type": "markdown",
   "metadata": {},
   "source": [
    "## Exploratory data analysis"
   ]
  },
  {
   "cell_type": "code",
   "execution_count": null,
   "metadata": {},
   "outputs": [],
   "source": [
    "# Load the Iris dataset from scikit-learn and put it in a DataFrame\n",
    "iris = datasets.load_iris()\n",
    "df = pd.DataFrame(iris.data, columns=iris.feature_names)\n",
    "df[\"target\"] = iris.target\n",
    "\n",
    "# Display the first few rows\n",
    "print(\"First five rows:\\n\", df.head(), \"\\n\")\n",
    "\n",
    "# Summary statistics\n",
    "print(\"Summary statistics:\\n\", df.describe(), \"\\n\")\n",
    "\n",
    "# Scatter plot of two features\n",
    "df.plot.scatter(x=\"sepal length (cm)\", y=\"petal length (cm)\", c=\"target\", cmap=\"viridis\")\n",
    "plt.title(\"Iris feature scatter plot\")\n",
    "plt.show()\n",
    "\n",
    "# Histogram of petal widths\n",
    "df[\"petal width (cm)\"].hist(bins=20)\n",
    "plt.title(\"Petal width distribution\")\n",
    "plt.xlabel(\"width (cm)\")\n",
    "plt.ylabel(\"count\")\n",
    "plt.show()"
   ]
  },
  {
   "cell_type": "markdown",
   "metadata": {},
   "source": [
    "## CSV input and output"
   ]
  },
  {
   "cell_type": "code",
   "execution_count": null,
   "metadata": {},
   "outputs": [],
   "source": [
    "# Create a simple DataFrame\n",
    "data = {\n",
    "    \"city\": [\"San Diego\", \"Los Angeles\", \"San Francisco\"],\n",
    "    \"population\": [1.4, 3.9, 0.88],\n",
    "}\n",
    "df = pd.DataFrame(data)\n",
    "print(\"Original DataFrame:\\n\", df, \"\\n\")\n",
    "\n",
    "# Write the DataFrame to CSV\n",
    "csv_path = \"cities.csv\"\n",
    "df.to_csv(csv_path, index=False)\n",
    "print(f\"Data written to {csv_path}\")\n",
    "\n",
    "# Read the file back in\n",
    "loaded = pd.read_csv(csv_path)\n",
    "print(\"\\nLoaded from CSV:\\n\", loaded)"
   ]
  },
  {
   "cell_type": "markdown",
   "metadata": {},
   "source": [
    "## DataFrame merging and grouping"
   ]
  },
  {
   "cell_type": "code",
   "execution_count": null,
   "metadata": {},
   "outputs": [],
   "source": [
    "url = 'https://raw.githubusercontent.com/mwaskom/seaborn-data/master/titanic.csv'\n",
    "titanic = pd.read_csv(url)\n",
    "class_map = pd.DataFrame({\n",
    "    'class': ['First', 'Second', 'Third'],\n",
    "    'luxury_level': ['high', 'medium', 'low']\n",
    "})\n",
    "merged = titanic.merge(class_map, on='class')\n",
    "summary = merged.groupby('luxury_level').agg({'fare': 'mean', 'survived': 'mean'})\n",
    "summary\n"
   ]
  },
  {
   "cell_type": "markdown",
   "metadata": {},
   "source": [
    "## Advanced data visualization\n"
   ]
  },
  {
   "cell_type": "code",
   "metadata": {},
   "execution_count": null,
   "outputs": [],
   "source": [
    "tips = sns.load_dataset('tips')\n",
    "print(tips.head(), '\n')\n",
    "sns.pairplot(tips, hue='sex')\n",
    "plt.suptitle('Pairplot of tips dataset', y=1.02)\n",
    "plt.show()\n",
    "corr = tips.corr(numeric_only=True)\n",
    "sns.heatmap(corr, annot=True, cmap='coolwarm')\n",
    "plt.title('Correlation heatmap')\n",
    "plt.show()"
   ]
  }
 ],
 "metadata": {
  "kernelspec": {
   "display_name": "cogs",
   "language": "python",
   "name": "python3"
  },
  "language_info": {
   "name": "python",
   "version": "3.11.5"
  }
 },
 "nbformat": 4,
 "nbformat_minor": 5
}
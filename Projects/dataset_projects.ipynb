{
  "cells": [
    {
      "cell_type": "markdown",
      "metadata": {},
      "source": "# Dataset Project Ideas\n\nThis notebook introduces several datasets and proposes project ideas to practice `pandas` and machine learning techniques."
    },
    {
      "cell_type": "markdown",
      "metadata": {},
      "source": "## Titanic Survival Dataset\n[Kaggle link](https://www.kaggle.com/c/titanic)\n\nThe Titanic dataset contains information about passengers. It's useful for practicing classification problems like predicting who survived."
    },
    {
      "cell_type": "code",
      "execution_count": null,
      "metadata": {},
      "outputs": [],
      "source": "import pandas as pd\n\ntitanic_url = 'https://raw.githubusercontent.com/datasciencedojo/datasets/master/titanic.csv'\ntitanic = pd.read_csv(titanic_url)\ntitanic.head()"
    },
    {
      "cell_type": "markdown",
      "metadata": {},
      "source": "**Project ideas**\n- Handle missing values and engineer new features (e.g., family size).\n- Train a model to predict the `Survived` column.\n- Compare algorithms such as logistic regression and random forests."
    },
    {
      "cell_type": "markdown",
      "metadata": {},
      "source": "## Wine Quality Dataset\n[UCI link](https://archive.ics.uci.edu/ml/datasets/wine+quality)\n\nThis dataset contains physicochemical properties of wine samples along with quality scores."
    },
    {
      "cell_type": "code",
      "execution_count": null,
      "metadata": {},
      "outputs": [],
      "source": "import pandas as pd\n\nwine_url = 'https://archive.ics.uci.edu/ml/machine-learning-databases/wine-quality/winequality-red.csv'\nwine = pd.read_csv(wine_url, sep=';')\nwine.head()"
    },
    {
      "cell_type": "markdown",
      "metadata": {},
      "source": "**Project ideas**\n- Explore correlations between features and quality.\n- Build a regression model to predict the quality score.\n- Turn quality into categories (good/bad) for classification."
    },
    {
      "cell_type": "markdown",
      "metadata": {},
      "source": "## Penguins Dataset\n[Palmer Penguins](https://github.com/allisonhorst/palmerpenguins)\n\nMeasurements for three penguin species provide a clean dataset for classification."
    },
    {
      "cell_type": "code",
      "execution_count": null,
      "metadata": {},
      "outputs": [],
      "source": "import pandas as pd\n\npenguin_url = 'https://raw.githubusercontent.com/allisonhorst/palmerpenguins/master/inst/extdata/penguins.csv'\npenguins = pd.read_csv(penguin_url)\npenguins.head()"
    },
    {
      "cell_type": "markdown",
      "metadata": {},
      "source": "**Project ideas**\n- Drop rows with missing measurements and visualize feature distributions.\n- Train a classifier to predict `species`.\n- Try dimensionality reduction for visualization."
    }
  ],
  "metadata": {
    "kernelspec": {
      "display_name": "Python 3",
      "language": "python",
      "name": "python3"
    },
    "language_info": {
      "name": "python",
      "pygments_lexer": "ipython3"
    }
  },
  "nbformat": 4,
  "nbformat_minor": 5
}
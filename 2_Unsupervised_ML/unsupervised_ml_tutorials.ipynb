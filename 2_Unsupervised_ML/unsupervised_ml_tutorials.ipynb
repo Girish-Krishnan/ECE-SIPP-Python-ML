{
 "cells": [
  {
   "cell_type": "markdown",
   "metadata": {},
   "source": [
    "# Unsupervised Machine Learning Tutorials\n",
    "\n",
    "Run the cell below if you need to install the required libraries. In Google Colab they come pre-installed.\n"
   ]
  },
  {
   "cell_type": "code",
   "execution_count": null,
   "metadata": {},
   "outputs": [],
   "source": [
    "!pip install scikit-learn matplotlib"
   ]
  },
  {
   "cell_type": "code",
   "execution_count": null,
   "metadata": {},
   "outputs": [],
   "source": [
    "import numpy as np\n",
    "import matplotlib.pyplot as plt\n",
    "from sklearn.datasets import load_iris, load_digits\n",
    "from sklearn.cluster import KMeans\n",
    "from sklearn.decomposition import PCA"
   ]
  },
  {
   "cell_type": "markdown",
   "metadata": {},
   "source": [
    "## k-means clustering\n",
    "\n",
    "k-means is an iterative clustering algorithm that partitions data into a specified number of clusters, $k$. The algorithm begins by initializing $k$ cluster centers (centroids), often chosen randomly. Each data point is then assigned to the nearest centroid based on Euclidean distance, forming clusters.\n",
    "\n",
    "After assignment, the centroids are updated by computing the mean of all points assigned to each cluster. This process of assignment and update repeats, with the objective of minimizing the within-cluster sum of squares:\n",
    "\n",
    "$$\n",
    "J = \\sum_{i=1}^n \\|x_i - \\mu_{c_i}\\|^2\n",
    "$$\n",
    "\n",
    "where $x_i$ is a data point, $\\mu_{c_i}$ is the centroid of the cluster assigned to $x_i$, and $n$ is the total number of data points.\n",
    "\n",
    "Iterations continue until cluster assignments no longer change (convergence) or a maximum number of iterations is reached. The result is a partitioning of the data into clusters with minimized intra-cluster variance."
   ]
  },
  {
   "cell_type": "code",
   "execution_count": null,
   "metadata": {},
   "outputs": [],
   "source": [
    "X, y = load_iris(return_X_y=True)\n",
    "kmeans = KMeans(n_clusters=3, random_state=42, n_init=10)\n",
    "clusters = kmeans.fit_predict(X)\n",
    "print('Cluster counts:', np.bincount(clusters))\n",
    "print('Cluster centers:', kmeans.cluster_centers_)\n"
   ]
  },
  {
   "cell_type": "code",
   "execution_count": null,
   "metadata": {},
   "outputs": [],
   "source": [
    "plt.scatter(X[:,0], X[:,1], c=clusters, cmap='viridis', s=30)\n",
    "plt.scatter(kmeans.cluster_centers_[:,0], kmeans.cluster_centers_[:,1], c='red', marker='x', s=100, linewidths=2, label='Centers')\n",
    "plt.title('k-means Clustering')\n",
    "plt.legend()\n",
    "plt.tight_layout()\n",
    "plt.show()\n"
   ]
  },
  {
   "cell_type": "markdown",
   "metadata": {},
   "source": [
    "## 5. Principal component analysis\n",
    "\n",
    "PCA projects data onto directions of maximal variance via eigen decomposition of the covariance matrix.\n"
   ]
  },
  {
   "cell_type": "code",
   "execution_count": null,
   "metadata": {},
   "outputs": [],
   "source": [
    "X, y = load_digits(return_X_y=True)\n",
    "pca = PCA(n_components=2)\n",
    "reduced = pca.fit_transform(X)\n",
    "print('Explained variance ratio:', pca.explained_variance_ratio_)\n",
    "print('Transformed shape:', reduced.shape)\n"
   ]
  },
  {
   "cell_type": "code",
   "execution_count": null,
   "metadata": {},
   "outputs": [],
   "source": [
    "plt.scatter(reduced[:,0], reduced[:,1], c=y, cmap='tab10', s=15)\n",
    "plt.xlabel('PC1')\n",
    "plt.ylabel('PC2')\n",
    "plt.title('PCA of Digits')\n",
    "plt.tight_layout()\n",
    "plt.show()\n"
   ]
  },
  {
   "cell_type": "markdown",
   "metadata": {},
   "source": [
    "This concludes the brief tour of basic machine learning examples using scikit-learn. Feel free to modify the code cells and explore further!\n",
    "Try experimenting with other datasets or algorithms for practice."
   ]
  }
 ],
 "metadata": {
  "kernelspec": {
   "display_name": "cogs",
   "language": "python",
   "name": "python3"
  },
  "language_info": {
   "codemirror_mode": {
    "name": "ipython",
    "version": 3
   },
   "file_extension": ".py",
   "mimetype": "text/x-python",
   "name": "python",
   "nbconvert_exporter": "python",
   "pygments_lexer": "ipython3",
   "version": "3.11.5"
  }
 },
 "nbformat": 4,
 "nbformat_minor": 4
}

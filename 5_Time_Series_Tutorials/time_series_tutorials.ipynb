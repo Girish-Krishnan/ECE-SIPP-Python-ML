{
 "cells": [
  {
   "cell_type": "markdown",
   "metadata": {},
   "source": [
    "# Time Series Analysis Tutorials\n",
    "\n",
    "This notebook demonstrates simple time series analysis techniques."
   ]
  },
  {
   "cell_type": "markdown",
   "metadata": {},
   "source": [
    "Run the cell below if you need to install the required packages."
   ]
  },
  {
   "cell_type": "code",
   "execution_count": null,
   "metadata": {},
   "outputs": [],
   "source": [
    "!pip install pandas matplotlib statsmodels"
   ]
  },
  {
   "cell_type": "markdown",
   "metadata": {},
   "source": [
    "## Simple moving average"
   ]
  },
  {
   "cell_type": "code",
   "execution_count": null,
   "metadata": {},
   "outputs": [],
   "source": [
    "import numpy as np\nimport pandas as pd\nimport matplotlib.pyplot as plt\n\nrng = pd.date_range(start='2020-01-01', periods=200, freq='D')\ndata = np.sin(np.linspace(0, 8*np.pi, len(rng))) + np.random.normal(scale=0.5, size=len(rng))\nseries = pd.Series(data, index=rng)\nrolling = series.rolling(window=20).mean()\n\nplt.figure(figsize=(8,4))\nplt.plot(series, label='Noisy series')\nplt.plot(rolling, label='20-day SMA', linewidth=2)\nplt.legend(); plt.tight_layout()\nplt.show()"
   ]
  },
  {
   "cell_type": "markdown",
   "metadata": {},
   "source": [
    "## ARIMA forecasting"
   ]
  },
  {
   "cell_type": "code",
   "execution_count": null,
   "metadata": {},
   "outputs": [],
   "source": [
    "import pandas as pd\nimport matplotlib.pyplot as plt\nimport statsmodels.api as sm\nfrom statsmodels.tsa.arima.model import ARIMA\n\nco2 = sm.datasets.co2.load_pandas().data\nco2 = co2['co2'].resample('MS').mean().ffill()\ntrain = co2[:-12]\nmodel = ARIMA(train, order=(1,1,1))\nmodel_fit = model.fit()\nforecast = model_fit.forecast(steps=12)\nplt.figure(figsize=(8,4))\nplt.plot(co2, label='CO2')\nplt.plot(forecast.index, forecast, color='red', label='Forecast')\nplt.legend(); plt.tight_layout()\nplt.show()"
   ]
  }
 ],
 "metadata": {},
 "nbformat": 4,
 "nbformat_minor": 5
}